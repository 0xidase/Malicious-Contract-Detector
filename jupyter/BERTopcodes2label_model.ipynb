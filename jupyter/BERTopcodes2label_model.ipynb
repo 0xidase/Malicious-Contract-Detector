{
 "cells": [
  {
   "cell_type": "code",
   "execution_count": 1,
   "metadata": {
    "collapsed": true,
    "ExecuteTime": {
     "start_time": "2023-04-10T19:56:35.153314Z",
     "end_time": "2023-04-10T19:56:36.442902Z"
    }
   },
   "outputs": [
    {
     "name": "stderr",
     "output_type": "stream",
     "text": [
      "/home/venglov/.venv/main/lib64/python3.11/site-packages/tqdm/auto.py:21: TqdmWarning: IProgress not found. Please update jupyter and ipywidgets. See https://ipywidgets.readthedocs.io/en/stable/user_install.html\n",
      "  from .autonotebook import tqdm as notebook_tqdm\n"
     ]
    }
   ],
   "source": [
    "import pandas as pd\n",
    "import torch as tc\n",
    "import numpy as np\n",
    "import multiprocessing\n",
    "import re\n",
    "from transformers import DistilBertTokenizerFast\n",
    "import torch\n",
    "from transformers import DistilBertForSequenceClassification\n",
    "from transformers import Trainer, TrainingArguments\n",
    "# from pyevmasm import disassemble_hex\n",
    "from web3 import Web3\n",
    "from evmdasm import EvmBytecode\n",
    "from datasets import *\n",
    "from transformers import DataCollatorWithPadding\n",
    "from torch import nn\n",
    "\n",
    "\n",
    "\n"
   ]
  },
  {
   "cell_type": "code",
   "execution_count": 2,
   "outputs": [],
   "source": [
    "# benign_df = pd.read_csv('../data/normal_df.csv').sample(frac=1).reset_index(drop=True)[:20000]\n",
    "# malicious_df = pd.read_csv('../data/malicious.csv')\n",
    "# sc_df = pd.concat([benign_df, malicious_df]).reset_index(drop=True)"
   ],
   "metadata": {
    "collapsed": false,
    "ExecuteTime": {
     "start_time": "2023-04-10T19:56:36.443904Z",
     "end_time": "2023-04-10T19:56:36.446234Z"
    }
   }
  },
  {
   "cell_type": "code",
   "execution_count": 3,
   "outputs": [],
   "source": [
    "# sc_df = pd.read_csv('/home/venglov/Documents/mcd_data/data_v2/opcodes_full_10k.csv')"
   ],
   "metadata": {
    "collapsed": false,
    "ExecuteTime": {
     "start_time": "2023-04-10T19:56:36.446581Z",
     "end_time": "2023-04-10T19:56:36.487715Z"
    }
   }
  },
  {
   "cell_type": "code",
   "execution_count": 4,
   "outputs": [],
   "source": [
    "# sc_df"
   ],
   "metadata": {
    "collapsed": false,
    "ExecuteTime": {
     "start_time": "2023-04-10T19:56:36.487594Z",
     "end_time": "2023-04-10T19:56:36.487896Z"
    }
   }
  },
  {
   "cell_type": "code",
   "execution_count": 5,
   "outputs": [],
   "source": [
    "# sc_df = sc_df[:10000]"
   ],
   "metadata": {
    "collapsed": false,
    "ExecuteTime": {
     "start_time": "2023-04-10T19:56:36.487615Z",
     "end_time": "2023-04-10T19:56:36.487946Z"
    }
   }
  },
  {
   "cell_type": "code",
   "execution_count": 6,
   "outputs": [],
   "source": [
    "# sc_df = sc_df[['decompiled_opcodes', 'malicious']].sample(frac=1).reset_index(drop=True)"
   ],
   "metadata": {
    "collapsed": false,
    "ExecuteTime": {
     "start_time": "2023-04-10T19:56:36.487632Z",
     "end_time": "2023-04-10T19:56:36.487973Z"
    }
   }
  },
  {
   "cell_type": "code",
   "execution_count": 7,
   "outputs": [],
   "source": [
    "# sc_df = sc_df.drop(sc_df[sc_df.decompiled_code == \"error\"].index)\n",
    "# sc_df = sc_df.drop(sc_df[sc_df.decompiled_code == \"error ;\"].index)\n",
    "# sc_df = sc_df.reset_index()\n",
    "# sc_df"
   ],
   "metadata": {
    "collapsed": false,
    "ExecuteTime": {
     "start_time": "2023-04-10T19:56:36.487704Z",
     "end_time": "2023-04-10T19:56:36.488000Z"
    }
   }
  },
  {
   "cell_type": "code",
   "execution_count": 8,
   "outputs": [
    {
     "name": "stderr",
     "output_type": "stream",
     "text": [
      "Found cached dataset csv (/home/venglov/.cache/huggingface/datasets/csv/default-2b849a0c54b184cb/0.0.0/6954658bab30a358235fa864b05cf819af0e179325c740e4bc853bcc7ec513e1)\n",
      "Found cached dataset csv (/home/venglov/.cache/huggingface/datasets/csv/default-49e15014392d381f/0.0.0/6954658bab30a358235fa864b05cf819af0e179325c740e4bc853bcc7ec513e1)\n",
      "Loading cached processed dataset at /home/venglov/.cache/huggingface/datasets/csv/default-2b849a0c54b184cb/0.0.0/6954658bab30a358235fa864b05cf819af0e179325c740e4bc853bcc7ec513e1/cache-03e3437ba700582d.arrow\n",
      "Loading cached split indices for dataset at /home/venglov/.cache/huggingface/datasets/csv/default-2b849a0c54b184cb/0.0.0/6954658bab30a358235fa864b05cf819af0e179325c740e4bc853bcc7ec513e1/cache-3004389aa81f0ab8.arrow and /home/venglov/.cache/huggingface/datasets/csv/default-2b849a0c54b184cb/0.0.0/6954658bab30a358235fa864b05cf819af0e179325c740e4bc853bcc7ec513e1/cache-8e69061db0518ba4.arrow\n"
     ]
    }
   ],
   "source": [
    "\n",
    "tokenizer = DistilBertTokenizerFast.from_pretrained(\"distilbert-base-uncased\")\n",
    "raw_dataset = load_dataset(\"csv\", data_files=\"/home/venglov/Documents/mcd_data/data_v2/opcodes_full_10k.csv\", split='train')\n",
    "real_contracts = load_dataset(\"csv\", data_files=\"/home/venglov/Documents/mcd_data/data_v2/contracts.csv\", split='train')\n",
    "raw_dataset = concatenate_datasets([raw_dataset, real_contracts])\n",
    "new_features = raw_dataset.features.copy()\n",
    "new_features[\"malicious\"] = ClassLabel(names=[\"n\", \"p\"])\n",
    "raw_dataset = raw_dataset.cast(new_features)\n",
    "# raw_dataset.features = {'label': ClassLabel(num_classes=2, names=['neg', 'pos'], id=None)}\n",
    "raw_dataset = raw_dataset.train_test_split(0.1, 0.9, seed=42)"
   ],
   "metadata": {
    "collapsed": false,
    "ExecuteTime": {
     "start_time": "2023-04-10T19:56:36.487817Z",
     "end_time": "2023-04-10T19:56:37.798373Z"
    }
   }
  },
  {
   "cell_type": "code",
   "execution_count": 9,
   "outputs": [
    {
     "data": {
      "text/plain": "DatasetDict({\n    train: Dataset({\n        features: ['Unnamed: 0', 'contract_address', 'opcodes', 'malicious'],\n        num_rows: 9257\n    })\n    test: Dataset({\n        features: ['Unnamed: 0', 'contract_address', 'opcodes', 'malicious'],\n        num_rows: 1029\n    })\n})"
     },
     "execution_count": 9,
     "metadata": {},
     "output_type": "execute_result"
    }
   ],
   "source": [
    "raw_dataset"
   ],
   "metadata": {
    "collapsed": false,
    "ExecuteTime": {
     "start_time": "2023-04-10T19:56:37.797926Z",
     "end_time": "2023-04-10T19:56:37.798784Z"
    }
   }
  },
  {
   "cell_type": "code",
   "execution_count": 10,
   "outputs": [],
   "source": [
    "\n",
    "\n",
    "raw_dataset = raw_dataset.remove_columns(['Unnamed: 0', 'contract_address'])\n",
    "raw_dataset = raw_dataset.rename_column('malicious', 'labels')\n",
    "\n",
    "\n",
    "\n",
    "# raw_dataset = raw_dataset.map(lambda x: {'labels': 0 if x['labels'] else 1})\n",
    "# raw_dataset = raw_dataset.map(lambda x: {'labels': ([0, 1] if x['labels'] else [1, 0])})"
   ],
   "metadata": {
    "collapsed": false,
    "ExecuteTime": {
     "start_time": "2023-04-10T19:56:37.798176Z",
     "end_time": "2023-04-10T19:56:37.811830Z"
    }
   }
  },
  {
   "cell_type": "code",
   "execution_count": 11,
   "outputs": [],
   "source": [
    "def tokenize_function(example):\n",
    "    return tokenizer(example[\"opcodes\"], truncation=True)"
   ],
   "metadata": {
    "collapsed": false,
    "ExecuteTime": {
     "start_time": "2023-04-10T19:56:37.806823Z",
     "end_time": "2023-04-10T19:56:37.812125Z"
    }
   }
  },
  {
   "cell_type": "code",
   "execution_count": 12,
   "outputs": [
    {
     "name": "stderr",
     "output_type": "stream",
     "text": [
      "Loading cached processed dataset at /home/venglov/.cache/huggingface/datasets/csv/default-2b849a0c54b184cb/0.0.0/6954658bab30a358235fa864b05cf819af0e179325c740e4bc853bcc7ec513e1/cache-6e8c0cf78f86d373.arrow\n",
      "                                                                \r"
     ]
    }
   ],
   "source": [
    "from transformers import DataCollatorWithPadding\n",
    "\n",
    "tokenized_datasets = raw_dataset.map(tokenize_function, batched=True)\n",
    "data_collator = DataCollatorWithPadding(tokenizer=tokenizer)"
   ],
   "metadata": {
    "collapsed": false,
    "ExecuteTime": {
     "start_time": "2023-04-10T19:56:37.806884Z",
     "end_time": "2023-04-10T19:56:43.786582Z"
    }
   }
  },
  {
   "cell_type": "code",
   "execution_count": 13,
   "outputs": [],
   "source": [
    "tokenized_datasets = tokenized_datasets.remove_columns('opcodes')"
   ],
   "metadata": {
    "collapsed": false,
    "ExecuteTime": {
     "start_time": "2023-04-10T19:56:43.775286Z",
     "end_time": "2023-04-10T19:56:43.786864Z"
    }
   }
  },
  {
   "cell_type": "code",
   "execution_count": 14,
   "outputs": [],
   "source": [
    "from torch.utils.data import DataLoader"
   ],
   "metadata": {
    "collapsed": false,
    "ExecuteTime": {
     "start_time": "2023-04-10T19:56:43.777842Z",
     "end_time": "2023-04-10T19:56:43.786896Z"
    }
   }
  },
  {
   "cell_type": "code",
   "execution_count": 15,
   "outputs": [],
   "source": [
    "train_dataloader = DataLoader(\n",
    "    tokenized_datasets[\"train\"], shuffle=True, batch_size=16, collate_fn=data_collator\n",
    ")\n",
    "eval_dataloader = DataLoader(\n",
    "    tokenized_datasets[\"test\"], batch_size=16, collate_fn=data_collator\n",
    ")"
   ],
   "metadata": {
    "collapsed": false,
    "ExecuteTime": {
     "start_time": "2023-04-10T19:56:43.780710Z",
     "end_time": "2023-04-10T19:56:43.786922Z"
    }
   }
  },
  {
   "cell_type": "code",
   "execution_count": 15,
   "outputs": [],
   "source": [],
   "metadata": {
    "collapsed": false,
    "ExecuteTime": {
     "start_time": "2023-04-10T19:56:43.784115Z",
     "end_time": "2023-04-10T19:56:43.826585Z"
    }
   }
  },
  {
   "cell_type": "code",
   "execution_count": 15,
   "outputs": [],
   "source": [],
   "metadata": {
    "collapsed": false,
    "ExecuteTime": {
     "start_time": "2023-04-10T19:56:43.826466Z",
     "end_time": "2023-04-10T19:56:43.826722Z"
    }
   }
  },
  {
   "cell_type": "code",
   "execution_count": 16,
   "outputs": [],
   "source": [
    "# class SmartContractsDataset(tc.utils.data.Dataset):\n",
    "#     def __init__(self, encodings, labels):\n",
    "#         self.encodings = encodings\n",
    "#         self.labels = labels\n",
    "#\n",
    "#     def __len__(self):\n",
    "#         return len(self.labels)\n",
    "#\n",
    "#     def __getitem__(self, idx):\n",
    "\n",
    "#         item = {key: torch.tensor(val[idx]) for key, val in self.encodings.items()}\n",
    "#         item['label'] = torch.tensor(self.labels[idx])\n",
    "#         return item\n"
   ],
   "metadata": {
    "collapsed": false,
    "ExecuteTime": {
     "start_time": "2023-04-10T19:56:43.826481Z",
     "end_time": "2023-04-10T19:56:43.826757Z"
    }
   }
  },
  {
   "cell_type": "code",
   "execution_count": 17,
   "outputs": [],
   "source": [
    "# for batch in train_dataloader:\n",
    "#     break\n",
    "# {k: v.shape for k, v in batch.items()}"
   ],
   "metadata": {
    "collapsed": false,
    "ExecuteTime": {
     "start_time": "2023-04-10T19:56:43.826521Z",
     "end_time": "2023-04-10T19:56:43.826785Z"
    }
   }
  },
  {
   "cell_type": "code",
   "execution_count": 18,
   "outputs": [
    {
     "name": "stderr",
     "output_type": "stream",
     "text": [
      "Some weights of the model checkpoint at distilbert-base-uncased were not used when initializing DistilBertForSequenceClassification: ['vocab_projector.bias', 'vocab_projector.weight', 'vocab_transform.weight', 'vocab_transform.bias', 'vocab_layer_norm.weight', 'vocab_layer_norm.bias']\n",
      "- This IS expected if you are initializing DistilBertForSequenceClassification from the checkpoint of a model trained on another task or with another architecture (e.g. initializing a BertForSequenceClassification model from a BertForPreTraining model).\n",
      "- This IS NOT expected if you are initializing DistilBertForSequenceClassification from the checkpoint of a model that you expect to be exactly identical (initializing a BertForSequenceClassification model from a BertForSequenceClassification model).\n",
      "Some weights of DistilBertForSequenceClassification were not initialized from the model checkpoint at distilbert-base-uncased and are newly initialized: ['pre_classifier.bias', 'classifier.weight', 'pre_classifier.weight', 'classifier.bias']\n",
      "You should probably TRAIN this model on a down-stream task to be able to use it for predictions and inference.\n"
     ]
    }
   ],
   "source": [
    "\n",
    "model = DistilBertForSequenceClassification.from_pretrained(\"distilbert-base-uncased\")\n"
   ],
   "metadata": {
    "collapsed": false,
    "ExecuteTime": {
     "start_time": "2023-04-10T19:56:43.826535Z",
     "end_time": "2023-04-10T19:56:44.301357Z"
    }
   }
  },
  {
   "cell_type": "code",
   "execution_count": 19,
   "outputs": [],
   "source": [
    "# labels = (list(map(), labels)))"
   ],
   "metadata": {
    "collapsed": false,
    "ExecuteTime": {
     "start_time": "2023-04-10T19:56:44.304109Z",
     "end_time": "2023-04-10T19:56:44.354546Z"
    }
   }
  },
  {
   "cell_type": "code",
   "execution_count": 20,
   "outputs": [],
   "source": [
    "# labels = torch.Tensor(labels)"
   ],
   "metadata": {
    "collapsed": false,
    "ExecuteTime": {
     "start_time": "2023-04-10T19:56:44.347237Z",
     "end_time": "2023-04-10T19:56:44.354665Z"
    }
   }
  },
  {
   "cell_type": "code",
   "execution_count": 21,
   "outputs": [],
   "source": [
    "# from transformers import AdamW\n",
    "#\n",
    "# optimizer = AdamW(model.parameters(), lr=1e-5)\n"
   ],
   "metadata": {
    "collapsed": false,
    "ExecuteTime": {
     "start_time": "2023-04-10T19:56:44.347254Z",
     "end_time": "2023-04-10T19:56:44.354700Z"
    }
   }
  },
  {
   "cell_type": "code",
   "execution_count": 22,
   "outputs": [],
   "source": [
    "# from transformers import get_scheduler\n",
    "#\n",
    "# num_epochs = 3\n",
    "# num_training_steps = num_epochs * len(train_dataloader)\n",
    "# lr_scheduler = get_scheduler(\n",
    "#     \"linear\",\n",
    "#     optimizer=optimizer,\n",
    "#     num_warmup_steps=600,\n",
    "#     num_training_steps=num_training_steps,\n",
    "# )"
   ],
   "metadata": {
    "collapsed": false,
    "ExecuteTime": {
     "start_time": "2023-04-10T19:56:44.347265Z",
     "end_time": "2023-04-10T19:56:44.354751Z"
    }
   }
  },
  {
   "cell_type": "code",
   "execution_count": 22,
   "outputs": [],
   "source": [],
   "metadata": {
    "collapsed": false,
    "ExecuteTime": {
     "start_time": "2023-04-10T19:56:44.347324Z",
     "end_time": "2023-04-10T19:56:44.354777Z"
    }
   }
  },
  {
   "cell_type": "code",
   "execution_count": 23,
   "outputs": [],
   "source": [
    "device = \"cuda\"\n"
   ],
   "metadata": {
    "collapsed": false,
    "ExecuteTime": {
     "start_time": "2023-04-10T19:56:44.347334Z",
     "end_time": "2023-04-10T19:56:44.354804Z"
    }
   }
  },
  {
   "cell_type": "code",
   "execution_count": 24,
   "outputs": [
    {
     "data": {
      "text/plain": "DistilBertForSequenceClassification(\n  (distilbert): DistilBertModel(\n    (embeddings): Embeddings(\n      (word_embeddings): Embedding(30522, 768, padding_idx=0)\n      (position_embeddings): Embedding(512, 768)\n      (LayerNorm): LayerNorm((768,), eps=1e-12, elementwise_affine=True)\n      (dropout): Dropout(p=0.1, inplace=False)\n    )\n    (transformer): Transformer(\n      (layer): ModuleList(\n        (0-5): 6 x TransformerBlock(\n          (attention): MultiHeadSelfAttention(\n            (dropout): Dropout(p=0.1, inplace=False)\n            (q_lin): Linear(in_features=768, out_features=768, bias=True)\n            (k_lin): Linear(in_features=768, out_features=768, bias=True)\n            (v_lin): Linear(in_features=768, out_features=768, bias=True)\n            (out_lin): Linear(in_features=768, out_features=768, bias=True)\n          )\n          (sa_layer_norm): LayerNorm((768,), eps=1e-12, elementwise_affine=True)\n          (ffn): FFN(\n            (dropout): Dropout(p=0.1, inplace=False)\n            (lin1): Linear(in_features=768, out_features=3072, bias=True)\n            (lin2): Linear(in_features=3072, out_features=768, bias=True)\n            (activation): GELUActivation()\n          )\n          (output_layer_norm): LayerNorm((768,), eps=1e-12, elementwise_affine=True)\n        )\n      )\n    )\n  )\n  (pre_classifier): Linear(in_features=768, out_features=768, bias=True)\n  (classifier): Linear(in_features=768, out_features=2, bias=True)\n  (dropout): Dropout(p=0.2, inplace=False)\n)"
     },
     "execution_count": 24,
     "metadata": {},
     "output_type": "execute_result"
    }
   ],
   "source": [
    "model.to(device)\n"
   ],
   "metadata": {
    "collapsed": false,
    "ExecuteTime": {
     "start_time": "2023-04-10T19:56:44.347344Z",
     "end_time": "2023-04-10T19:56:44.457269Z"
    }
   }
  },
  {
   "cell_type": "code",
   "execution_count": 25,
   "outputs": [],
   "source": [
    "# from tqdm.auto import tqdm\n",
    "#\n",
    "# progress_bar = tqdm(range(num_training_steps))\n",
    "#\n",
    "# model.train()\n",
    "# for epoch in range(num_epochs):\n",
    "#     for batch in train_dataloader:\n",
    "#         batch = {k: v.to(device) for k, v in batch.items()}\n",
    "#         outputs = model(**batch)\n",
    "#         loss = outputs.loss\n",
    "#         loss.backward()\n",
    "#\n",
    "#         optimizer.step()\n",
    "#         lr_scheduler.step()\n",
    "#         optimizer.zero_grad()\n",
    "#         progress_bar.update(1)\n"
   ],
   "metadata": {
    "collapsed": false,
    "ExecuteTime": {
     "start_time": "2023-04-10T19:56:44.455474Z",
     "end_time": "2023-04-10T19:56:44.457445Z"
    }
   }
  },
  {
   "cell_type": "code",
   "execution_count": 26,
   "outputs": [],
   "source": [
    "# scd = SmartContractsDataset(inputs, sc_df.malicious.tolist())\n",
    "# train_size = int(0.8 * len(scd))\n",
    "# val_size = int(0.1 * len(scd))\n",
    "# test_size = len(scd) - train_size - val_size\n",
    "# training_dataset, validation_dataset, testing_dataset = tc.utils.data.random_split(scd,\n",
    "#                                                                                    [train_size, val_size, test_size])\n"
   ],
   "metadata": {
    "collapsed": false,
    "ExecuteTime": {
     "start_time": "2023-04-10T19:56:44.456833Z",
     "end_time": "2023-04-10T19:56:44.499873Z"
    }
   }
  },
  {
   "cell_type": "code",
   "execution_count": 27,
   "outputs": [],
   "source": [
    "# import evaluate\n",
    "#\n",
    "# metric = evaluate.load(\"precision\")\n",
    "#\n",
    "# def compute_metrics(eval_pred):\n",
    "#     logits, labels = eval_pred\n",
    "#     # predictions = np.argmax(logits, axis=-1)\n",
    "#     loss_fct = nn.CrossEntropyLoss(weight=torch.tensor([1.0, 10.0]))\n",
    "#     loss = loss_fct(logits.view(-1, 2), labels.view(-1))\n",
    "#     return loss\n",
    "\n",
    "# training_args = TrainingArguments(\n",
    "#     output_dir=\"./results\",\n",
    "#     num_train_epochs=3,\n",
    "#     # use_mps_device=True,\n",
    "#     per_device_train_batch_size=8,\n",
    "#     per_device_eval_batch_size=8,\n",
    "#     warmup_steps=600,\n",
    "#     weight_decay=0.01,\n",
    "#     logging_dir=\"./logs\",\n",
    "#     logging_steps=10,\n",
    "#     evaluation_strategy=\"epoch\"\n",
    "# )\n",
    "# trainer = Trainer(\n",
    "#     model=model,\n",
    "#     args=training_args,\n",
    "#     train_dataset=tokenized_datasets[\"train\"],\n",
    "#     eval_dataset=tokenized_datasets[\"test\"],\n",
    "#     data_collator=data_collator,\n",
    "#     tokenizer=tokenizer,\n",
    "# )"
   ],
   "metadata": {
    "collapsed": false,
    "ExecuteTime": {
     "start_time": "2023-04-10T19:56:44.499509Z",
     "end_time": "2023-04-10T19:56:44.500001Z"
    }
   }
  },
  {
   "cell_type": "code",
   "execution_count": 28,
   "outputs": [],
   "source": [
    "from transformers import get_scheduler\n",
    "from torch.optim import AdamW\n",
    "\n",
    "optimizer = AdamW(model.parameters(), lr=5e-5)\n",
    "\n",
    "num_epochs = 3\n",
    "num_training_steps = num_epochs * len(train_dataloader)\n",
    "lr_scheduler = get_scheduler(\n",
    "    \"linear\",\n",
    "    optimizer=optimizer,\n",
    "    num_warmup_steps=600,\n",
    "    num_training_steps=num_training_steps,\n",
    ")\n",
    "\n",
    "loss_fn = nn.CrossEntropyLoss(weight=torch.tensor([1.0, 2.0]).to(device))"
   ],
   "metadata": {
    "collapsed": false,
    "ExecuteTime": {
     "start_time": "2023-04-10T19:56:44.499528Z",
     "end_time": "2023-04-10T19:56:44.500039Z"
    }
   }
  },
  {
   "cell_type": "code",
   "execution_count": 29,
   "outputs": [],
   "source": [
    "torch.cuda.empty_cache()"
   ],
   "metadata": {
    "collapsed": false,
    "ExecuteTime": {
     "start_time": "2023-04-10T19:56:44.499586Z",
     "end_time": "2023-04-10T19:56:44.500084Z"
    }
   }
  },
  {
   "cell_type": "code",
   "execution_count": 30,
   "outputs": [
    {
     "name": "stderr",
     "output_type": "stream",
     "text": [
      "  0%|          | 0/579 [00:00<?, ?it/s]You're using a DistilBertTokenizerFast tokenizer. Please note that with a fast tokenizer, using the `__call__` method is faster than using a method to encode the text followed by a call to the `pad` method to get a padded encoding.\n",
      "100%|██████████| 579/579 [01:43<00:00,  5.62it/s]\n"
     ]
    },
    {
     "name": "stdout",
     "output_type": "stream",
     "text": [
      "Epoch: 1/3; Training loss: 0.10887776911031496; Validation loss: 0.03267311663904156\n"
     ]
    },
    {
     "name": "stderr",
     "output_type": "stream",
     "text": [
      "100%|██████████| 579/579 [01:43<00:00,  5.59it/s]\n"
     ]
    },
    {
     "name": "stdout",
     "output_type": "stream",
     "text": [
      "Epoch: 2/3; Training loss: 0.04100818262788964; Validation loss: 0.019243060688201623\n"
     ]
    },
    {
     "name": "stderr",
     "output_type": "stream",
     "text": [
      "100%|██████████| 579/579 [01:43<00:00,  5.59it/s]\n"
     ]
    },
    {
     "name": "stdout",
     "output_type": "stream",
     "text": [
      "Epoch: 3/3; Training loss: 0.030161021032363792; Validation loss: 0.013387001610737151\n"
     ]
    }
   ],
   "source": [
    "from tqdm.auto import tqdm\n",
    "\n",
    "# progress_bar = tqdm(range(num_training_steps))\n",
    "\n",
    "for epoch in range(num_epochs):\n",
    "    loss_total = 0\n",
    "    loss_val = 0\n",
    "    model.train()\n",
    "    for batch in tqdm(train_dataloader):\n",
    "        batch = {k: v.to(device) for k, v in batch.items()}\n",
    "        # optimizer.zero_grad()\n",
    "        outputs = model(**batch)\n",
    "        # loss = outputs.loss\n",
    "\n",
    "        logits = outputs.logits\n",
    "        # predictions = torch.argmax(logits, dim=-1)\n",
    "        loss = loss_fn(logits.view(-1, 2), batch[\"labels\"].view(-1))\n",
    "        # metric.add_batch(predictions=predictions, references=batch[\"labels\"])\n",
    "\n",
    "        loss.backward()\n",
    "\n",
    "        optimizer.step()\n",
    "        lr_scheduler.step()\n",
    "        optimizer.zero_grad()\n",
    "        # progress_bar.update(1)\n",
    "        loss_total += loss.item()\n",
    "\n",
    "    model.eval()\n",
    "    for batch in eval_dataloader:\n",
    "        batch = {k: v.to(device) for k, v in batch.items()}\n",
    "        with torch.no_grad():\n",
    "            outputs = model(**batch)\n",
    "        logits = outputs.logits\n",
    "        loss = loss_fn(logits.view(-1, 2), batch[\"labels\"].view(-1))\n",
    "        loss_val += loss.item()\n",
    "\n",
    "    #\n",
    "    #     logits = outputs.logits\n",
    "    #     predictions = torch.argmax(logits, dim=-1)\n",
    "    #     metric.add_batch(predictions=predictions, references=batch[\"labels\"])\n",
    "    # metric.compute()\n",
    "    print(f\"Epoch: {epoch + 1}/{num_epochs}; Training loss: {loss_total / len(train_dataloader)}; Validation loss: {loss_val / len(eval_dataloader)}\")\n",
    "    # print(\"\")"
   ],
   "metadata": {
    "collapsed": false,
    "ExecuteTime": {
     "start_time": "2023-04-10T19:56:44.499601Z",
     "end_time": "2023-04-10T20:02:06.609605Z"
    }
   }
  },
  {
   "cell_type": "code",
   "execution_count": 31,
   "outputs": [],
   "source": [
    "# trainer.train()"
   ],
   "metadata": {
    "collapsed": false,
    "ExecuteTime": {
     "start_time": "2023-04-10T20:02:06.609211Z",
     "end_time": "2023-04-10T20:02:06.609891Z"
    }
   }
  },
  {
   "cell_type": "code",
   "execution_count": 32,
   "outputs": [],
   "source": [
    "torch.save(model.state_dict(), '/home/venglov/Documents/mcd_data/data_v2/opcodes_model_weights_v6.pth')"
   ],
   "metadata": {
    "collapsed": false,
    "ExecuteTime": {
     "start_time": "2023-04-10T20:02:06.609253Z",
     "end_time": "2023-04-10T20:02:06.700701Z"
    }
   }
  },
  {
   "cell_type": "code",
   "execution_count": 33,
   "outputs": [
    {
     "name": "stdout",
     "output_type": "stream",
     "text": [
      "tensor([[ 3.8802, -4.1542],\n",
      "        [ 3.8802, -4.1542],\n",
      "        [ 3.8802, -4.1542],\n",
      "        [ 3.8201, -4.1016],\n",
      "        [ 3.8174, -4.0716],\n",
      "        [ 3.8327, -4.0929],\n",
      "        [ 3.4179, -3.6724],\n",
      "        [ 3.8679, -4.1362],\n",
      "        [ 3.8361, -4.1096],\n",
      "        [ 3.5788, -3.7746],\n",
      "        [ 3.8126, -4.0762],\n",
      "        [ 3.8802, -4.1542],\n",
      "        [ 3.8460, -4.1076],\n",
      "        [ 3.7817, -4.0397],\n",
      "        [ 3.7998, -4.0606],\n",
      "        [ 3.8335, -4.0700]], device='cuda:0')\n",
      "tensor([[ 3.7839, -4.0929],\n",
      "        [ 3.7030, -4.0203],\n",
      "        [ 3.8802, -4.1542],\n",
      "        [ 3.7983, -4.0893],\n",
      "        [ 3.8466, -4.0999],\n",
      "        [ 3.6843, -3.8951],\n",
      "        [ 3.7403, -4.0671],\n",
      "        [ 3.7430, -4.0643],\n",
      "        [ 3.8693, -4.1375],\n",
      "        [ 3.8256, -4.1071],\n",
      "        [ 3.8256, -4.1071],\n",
      "        [ 3.8463, -4.1188],\n",
      "        [ 3.8056, -4.0891],\n",
      "        [ 3.8256, -4.1071],\n",
      "        [ 3.7359, -4.0366],\n",
      "        [ 3.7506, -4.0738]], device='cuda:0')\n",
      "tensor([[ 3.6335, -3.9235],\n",
      "        [ 0.1453, -0.2005],\n",
      "        [ 3.7536, -4.0702],\n",
      "        [ 3.8802, -4.1542],\n",
      "        [ 2.5918, -2.9325],\n",
      "        [ 3.7926, -4.0561],\n",
      "        [ 3.8256, -4.1071],\n",
      "        [ 3.8138, -4.0759],\n",
      "        [ 3.7893, -4.0420],\n",
      "        [ 3.7498, -4.0435],\n",
      "        [ 3.8003, -4.0525],\n",
      "        [ 3.7990, -4.0686],\n",
      "        [ 3.8337, -4.0858],\n",
      "        [ 3.8513, -4.1333],\n",
      "        [ 3.7979, -4.0896],\n",
      "        [ 3.8027, -4.0710]], device='cuda:0')\n",
      "tensor([[ 3.7536, -4.0702],\n",
      "        [ 3.8042, -4.0727],\n",
      "        [ 3.7380, -3.9587],\n",
      "        [ 3.8050, -4.0684],\n",
      "        [ 3.8677, -4.1360],\n",
      "        [ 3.8636, -4.1388],\n",
      "        [ 3.8256, -4.1071],\n",
      "        [ 3.8121, -4.0595],\n",
      "        [ 3.7442, -4.0551],\n",
      "        [ 3.8802, -4.1542],\n",
      "        [ 3.8802, -4.1542],\n",
      "        [ 3.8480, -4.1217],\n",
      "        [ 3.6428, -3.9711],\n",
      "        [ 3.8609, -4.1063],\n",
      "        [ 3.8291, -4.0818],\n",
      "        [ 3.5491, -3.8629]], device='cuda:0')\n",
      "tensor([[ 3.0048, -3.3197],\n",
      "        [ 3.8159, -4.0536],\n",
      "        [ 3.8301, -4.1116],\n",
      "        [ 3.8802, -4.1542],\n",
      "        [ 3.6978, -4.0122],\n",
      "        [ 3.8802, -4.1542],\n",
      "        [ 3.8285, -4.1233],\n",
      "        [ 3.8209, -4.1004],\n",
      "        [ 3.4582, -3.6468],\n",
      "        [ 3.8600, -4.1409],\n",
      "        [ 3.8802, -4.1542],\n",
      "        [ 3.8203, -4.0656],\n",
      "        [ 3.8522, -4.1280],\n",
      "        [ 3.8308, -4.0898],\n",
      "        [ 3.8182, -4.0781],\n",
      "        [ 3.8802, -4.1542]], device='cuda:0')\n",
      "tensor([[ 3.8802, -4.1542],\n",
      "        [ 3.8802, -4.1542],\n",
      "        [ 3.8802, -4.1542],\n",
      "        [ 3.8256, -4.1071],\n",
      "        [ 3.8096, -4.0907],\n",
      "        [ 3.8519, -4.1125],\n",
      "        [ 3.7091, -3.9908],\n",
      "        [ 3.8802, -4.1542],\n",
      "        [ 3.8464, -4.1244],\n",
      "        [ 3.2253, -3.4904],\n",
      "        [ 3.8478, -4.1028],\n",
      "        [ 0.2243, -0.3256],\n",
      "        [ 3.7774, -4.0303],\n",
      "        [ 3.7114, -4.0339],\n",
      "        [ 3.8802, -4.1542],\n",
      "        [ 3.7839, -4.0557]], device='cuda:0')\n",
      "tensor([[ 3.5813, -3.9227],\n",
      "        [ 2.2448, -2.4402],\n",
      "        [ 3.8256, -4.1071],\n",
      "        [ 3.8802, -4.1542],\n",
      "        [ 3.8802, -4.1542],\n",
      "        [ 3.8256, -4.1071],\n",
      "        [ 3.6971, -4.0281],\n",
      "        [ 3.8241, -4.1071],\n",
      "        [ 3.7567, -4.0017],\n",
      "        [ 3.8153, -4.1029],\n",
      "        [ 3.8802, -4.1542],\n",
      "        [ 3.3191, -3.5582],\n",
      "        [ 3.7803, -4.0651],\n",
      "        [ 3.8129, -4.0898],\n",
      "        [ 3.8256, -4.1071],\n",
      "        [ 3.8802, -4.1542]], device='cuda:0')\n",
      "tensor([[ 3.8802, -4.1542],\n",
      "        [ 3.8256, -4.1071],\n",
      "        [ 3.8415, -4.1079],\n",
      "        [ 3.8549, -4.1044],\n",
      "        [ 3.8802, -4.1542],\n",
      "        [ 3.6823, -3.9228],\n",
      "        [ 3.8802, -4.1542],\n",
      "        [ 3.8470, -4.0958],\n",
      "        [ 3.5813, -3.9227],\n",
      "        [ 3.8802, -4.1542],\n",
      "        [ 3.7359, -4.0366],\n",
      "        [ 3.7350, -4.0554],\n",
      "        [ 0.6065, -0.7104],\n",
      "        [ 3.8445, -4.1082],\n",
      "        [ 3.8119, -4.0502],\n",
      "        [ 3.8324, -4.1025]], device='cuda:0')\n",
      "tensor([[ 3.8802, -4.1542],\n",
      "        [ 2.4720, -2.6718],\n",
      "        [ 3.8802, -4.1542],\n",
      "        [ 3.8341, -4.1090],\n",
      "        [ 3.8256, -4.1071],\n",
      "        [ 3.7588, -4.0478],\n",
      "        [ 3.3618, -3.6766],\n",
      "        [ 3.8802, -4.1542],\n",
      "        [ 3.8802, -4.1542],\n",
      "        [ 3.8802, -4.1542],\n",
      "        [ 3.7990, -4.0686],\n",
      "        [ 3.8866, -4.1405],\n",
      "        [ 3.8112, -4.1024],\n",
      "        [ 3.8318, -4.0754],\n",
      "        [ 3.8802, -4.1542],\n",
      "        [ 3.7727, -4.0846]], device='cuda:0')\n",
      "tensor([[ 3.8693, -4.1375],\n",
      "        [ 3.8802, -4.1542],\n",
      "        [ 3.3354, -3.5836],\n",
      "        [ 3.4590, -3.6477],\n",
      "        [ 3.8802, -4.1542],\n",
      "        [ 3.8546, -4.0886],\n",
      "        [ 3.5397, -3.7791],\n",
      "        [ 3.3191, -3.5582],\n",
      "        [ 3.8802, -4.1542],\n",
      "        [ 3.8802, -4.1542],\n",
      "        [ 3.8802, -4.1542],\n",
      "        [ 3.8113, -4.1335],\n",
      "        [ 3.8802, -4.1542],\n",
      "        [ 3.6894, -4.0208],\n",
      "        [ 3.8256, -4.1071],\n",
      "        [ 3.8802, -4.1542]], device='cuda:0')\n",
      "tensor([[ 3.8802, -4.1542],\n",
      "        [ 3.7990, -4.0686],\n",
      "        [ 3.8065, -4.0690],\n",
      "        [ 3.8256, -4.1071],\n",
      "        [ 3.8802, -4.1542],\n",
      "        [ 3.7990, -4.0686],\n",
      "        [ 3.7498, -4.0435],\n",
      "        [ 3.8316, -4.0578],\n",
      "        [ 3.8468, -4.1118],\n",
      "        [ 3.8404, -4.1160],\n",
      "        [ 3.8308, -4.1139],\n",
      "        [ 3.7284, -4.0247],\n",
      "        [ 3.6790, -3.8881],\n",
      "        [ 3.7758, -4.0514],\n",
      "        [ 3.8321, -4.0861],\n",
      "        [ 3.7694, -4.0169]], device='cuda:0')\n",
      "tensor([[ 3.8405, -4.1106],\n",
      "        [ 3.7269, -4.0146],\n",
      "        [ 3.8802, -4.1542],\n",
      "        [ 3.7866, -4.0414],\n",
      "        [ 3.8823, -4.1189],\n",
      "        [ 3.8548, -4.1307],\n",
      "        [ 3.8802, -4.1542],\n",
      "        [ 3.8077, -4.0641],\n",
      "        [ 3.7498, -4.0435],\n",
      "        [ 3.8202, -4.0993],\n",
      "        [ 3.8256, -4.1071],\n",
      "        [ 3.7360, -4.0348],\n",
      "        [ 3.8069, -4.0715],\n",
      "        [ 3.8802, -4.1542],\n",
      "        [ 3.7945, -4.0989],\n",
      "        [ 3.3716, -3.6043]], device='cuda:0')\n",
      "tensor([[ 3.6977, -4.0233],\n",
      "        [ 3.8334, -4.0959],\n",
      "        [ 3.8336, -4.0975],\n",
      "        [ 3.7842, -4.0580],\n",
      "        [ 3.8256, -4.1071],\n",
      "        [ 3.8098, -4.0743],\n",
      "        [ 3.3672, -3.6306],\n",
      "        [ 3.8256, -4.1071],\n",
      "        [ 3.7926, -4.0845],\n",
      "        [ 3.7292, -4.0396],\n",
      "        [ 3.8529, -4.1018],\n",
      "        [ 3.7091, -3.9908],\n",
      "        [ 3.8661, -4.1264],\n",
      "        [ 3.8287, -4.0866],\n",
      "        [ 3.6082, -3.9583],\n",
      "        [ 3.7359, -4.0366]], device='cuda:0')\n",
      "tensor([[ 3.8256, -4.1071],\n",
      "        [ 3.8802, -4.1542],\n",
      "        [ 3.6311, -3.9393],\n",
      "        [ 3.8724, -4.1362],\n",
      "        [ 3.8083, -4.0763],\n",
      "        [ 3.3354, -3.5852],\n",
      "        [ 3.8802, -4.1542],\n",
      "        [ 3.4034, -3.7552],\n",
      "        [ 3.8802, -4.1542],\n",
      "        [ 3.8256, -4.1071],\n",
      "        [ 3.8623, -4.1188],\n",
      "        [ 3.8802, -4.1542],\n",
      "        [ 3.5978, -3.9189],\n",
      "        [ 3.8802, -4.1542],\n",
      "        [ 3.8301, -4.0980],\n",
      "        [ 3.8802, -4.1542]], device='cuda:0')\n",
      "tensor([[ 3.8802, -4.1542],\n",
      "        [ 3.8033, -4.0617],\n",
      "        [ 3.8597, -4.1393],\n",
      "        [ 2.6637, -2.8430],\n",
      "        [ 3.8284, -4.1162],\n",
      "        [ 3.8259, -4.0978],\n",
      "        [ 3.8418, -4.1364],\n",
      "        [ 3.8134, -4.1064],\n",
      "        [ 3.7498, -4.0435],\n",
      "        [ 3.8776, -4.1379],\n",
      "        [ 3.8150, -4.1206],\n",
      "        [ 3.8362, -4.0876],\n",
      "        [ 3.5408, -3.7727],\n",
      "        [ 3.8302, -4.1005],\n",
      "        [ 3.8802, -4.1542],\n",
      "        [ 3.8417, -4.1348]], device='cuda:0')\n",
      "tensor([[ 3.6484, -3.9589],\n",
      "        [ 3.7547, -4.0471],\n",
      "        [ 3.7727, -4.0846],\n",
      "        [ 3.8256, -4.1071],\n",
      "        [ 3.8256, -4.1071],\n",
      "        [ 3.8802, -4.1542],\n",
      "        [ 3.8256, -4.1071],\n",
      "        [ 3.7991, -4.0748],\n",
      "        [ 3.8448, -4.1044],\n",
      "        [ 3.8527, -4.1387],\n",
      "        [ 3.7845, -4.0651],\n",
      "        [ 0.3243, -0.4037],\n",
      "        [ 3.8802, -4.1542],\n",
      "        [ 3.8802, -4.1542],\n",
      "        [ 3.8802, -4.1542],\n",
      "        [ 3.8325, -4.0838]], device='cuda:0')\n",
      "tensor([[ 3.8256, -4.1071],\n",
      "        [ 3.8802, -4.1542],\n",
      "        [ 3.7612, -4.0339],\n",
      "        [ 3.8802, -4.1542],\n",
      "        [ 3.7664, -4.0785],\n",
      "        [-0.9418,  0.9363],\n",
      "        [ 3.8802, -4.1542],\n",
      "        [ 0.5125, -0.5898],\n",
      "        [-0.2007,  0.1495],\n",
      "        [ 3.8802, -4.1542],\n",
      "        [ 3.8104, -4.0960],\n",
      "        [ 3.8459, -4.1211],\n",
      "        [ 3.8110, -4.0810],\n",
      "        [ 3.8802, -4.1542],\n",
      "        [ 3.7946, -4.0395],\n",
      "        [ 3.4694, -3.7640]], device='cuda:0')\n",
      "tensor([[ 3.7997, -4.0681],\n",
      "        [ 3.5321, -3.7385],\n",
      "        [ 3.7496, -3.9690],\n",
      "        [ 3.8802, -4.1542],\n",
      "        [-0.8683,  0.8692],\n",
      "        [ 2.2637, -2.5024],\n",
      "        [ 3.8448, -4.1259],\n",
      "        [ 3.6556, -3.9940],\n",
      "        [ 3.8194, -4.1010],\n",
      "        [ 3.8260, -4.0978],\n",
      "        [ 3.7898, -4.0565],\n",
      "        [ 3.8275, -4.1065],\n",
      "        [ 3.8802, -4.1542],\n",
      "        [ 3.7924, -4.0446],\n",
      "        [ 3.8259, -4.0981],\n",
      "        [ 3.8802, -4.1542]], device='cuda:0')\n",
      "tensor([[ 3.8802, -4.1542],\n",
      "        [ 3.7379, -4.0293],\n",
      "        [ 3.8802, -4.1542],\n",
      "        [ 3.7770, -4.0913],\n",
      "        [ 3.8802, -4.1542],\n",
      "        [ 3.8265, -4.0893],\n",
      "        [ 3.8802, -4.1542],\n",
      "        [ 3.8256, -4.1071],\n",
      "        [ 3.8802, -4.1542],\n",
      "        [ 3.8802, -4.1542],\n",
      "        [ 3.8399, -4.0913],\n",
      "        [ 3.8256, -4.1071],\n",
      "        [ 3.8476, -4.1213],\n",
      "        [ 3.8125, -4.0896],\n",
      "        [ 3.8239, -4.0941],\n",
      "        [ 3.8693, -4.1375]], device='cuda:0')\n",
      "tensor([[ 3.8802, -4.1542],\n",
      "        [ 3.8802, -4.1542],\n",
      "        [ 3.7775, -4.0685],\n",
      "        [ 3.6991, -4.0256],\n",
      "        [ 3.8802, -4.1542],\n",
      "        [ 3.8233, -4.0816],\n",
      "        [ 2.7446, -2.9059],\n",
      "        [ 3.7861, -4.0890],\n",
      "        [ 3.8686, -4.1323],\n",
      "        [ 3.8677, -4.1259],\n",
      "        [ 3.8105, -4.0587],\n",
      "        [ 3.8069, -4.0791],\n",
      "        [ 3.6034, -3.9257],\n",
      "        [ 3.8217, -4.0788],\n",
      "        [ 3.5978, -3.9189],\n",
      "        [ 3.8802, -4.1542]], device='cuda:0')\n",
      "tensor([[ 3.8802, -4.1542],\n",
      "        [ 3.7139, -3.9905],\n",
      "        [ 3.8802, -4.1542],\n",
      "        [ 3.7301, -3.9687],\n",
      "        [ 3.7861, -4.0360],\n",
      "        [ 3.7889, -4.0930],\n",
      "        [ 3.8802, -4.1542],\n",
      "        [ 3.7685, -4.0504],\n",
      "        [ 3.8256, -4.1071],\n",
      "        [ 3.7917, -4.0756],\n",
      "        [ 3.8503, -4.1415],\n",
      "        [ 3.8256, -4.1071],\n",
      "        [ 3.7990, -4.0686],\n",
      "        [ 3.5290, -3.8373],\n",
      "        [ 3.8386, -4.0899],\n",
      "        [ 3.6529, -3.8801]], device='cuda:0')\n",
      "tensor([[ 3.8357, -4.0804],\n",
      "        [ 3.8602, -4.1416],\n",
      "        [ 3.3220, -3.5718],\n",
      "        [ 3.8519, -4.1186],\n",
      "        [ 3.8802, -4.1542],\n",
      "        [ 3.7420, -4.0119],\n",
      "        [ 3.6977, -4.0233],\n",
      "        [ 3.8802, -4.1542],\n",
      "        [ 3.7706, -4.0103],\n",
      "        [ 3.6975, -4.0078],\n",
      "        [ 3.8084, -4.0885],\n",
      "        [ 3.7934, -4.0960],\n",
      "        [ 3.7899, -4.0471],\n",
      "        [ 3.8802, -4.1542],\n",
      "        [ 3.7352, -4.0564],\n",
      "        [ 3.8092, -4.0767]], device='cuda:0')\n",
      "tensor([[ 3.8256, -4.1071],\n",
      "        [ 3.8113, -4.1335],\n",
      "        [ 3.8630, -4.1120],\n",
      "        [ 3.8693, -4.1375],\n",
      "        [ 3.5491, -3.8629],\n",
      "        [ 3.5450, -3.8710],\n",
      "        [ 3.7373, -4.0562],\n",
      "        [ 3.7920, -4.0213],\n",
      "        [ 3.8802, -4.1542],\n",
      "        [ 3.8802, -4.1542],\n",
      "        [ 3.8648, -4.1301],\n",
      "        [ 3.8802, -4.1542],\n",
      "        [ 2.1917, -2.4906],\n",
      "        [ 3.8256, -4.1172],\n",
      "        [ 3.7319, -4.0365],\n",
      "        [ 3.8802, -4.1542]], device='cuda:0')\n",
      "tensor([[ 3.7994, -4.0697],\n",
      "        [ 3.8244, -4.0690],\n",
      "        [ 3.8802, -4.1542],\n",
      "        [ 3.8145, -4.0795],\n",
      "        [ 3.3360, -3.5731],\n",
      "        [ 3.8649, -4.1071],\n",
      "        [ 3.8802, -4.1542],\n",
      "        [ 3.7285, -4.0527],\n",
      "        [ 3.8530, -4.1181],\n",
      "        [ 3.8142, -4.0866],\n",
      "        [ 3.8717, -4.1364],\n",
      "        [ 3.7588, -4.0478],\n",
      "        [ 2.6465, -2.8227],\n",
      "        [ 3.8654, -4.1261],\n",
      "        [ 3.7909, -4.0427],\n",
      "        [ 3.8802, -4.1542]], device='cuda:0')\n",
      "tensor([[ 3.8284, -4.1162],\n",
      "        [ 3.8802, -4.1542],\n",
      "        [ 3.8802, -4.1542],\n",
      "        [ 3.8802, -4.1542],\n",
      "        [ 3.8802, -4.1542],\n",
      "        [ 3.8265, -4.1062],\n",
      "        [ 3.8431, -4.1140],\n",
      "        [ 3.8128, -4.0900],\n",
      "        [ 3.7945, -4.0709],\n",
      "        [ 3.7994, -4.0697],\n",
      "        [ 3.8256, -4.1071],\n",
      "        [ 3.8802, -4.1542],\n",
      "        [ 3.8802, -4.1542],\n",
      "        [ 3.8802, -4.1542],\n",
      "        [ 3.8802, -4.1542],\n",
      "        [ 3.8693, -4.1375]], device='cuda:0')\n",
      "tensor([[ 3.7498, -4.0435],\n",
      "        [ 3.7588, -4.0478],\n",
      "        [ 3.7957, -4.0914],\n",
      "        [ 3.8241, -4.0974],\n",
      "        [ 3.8256, -4.1071],\n",
      "        [ 3.8612, -4.1212],\n",
      "        [ 3.8176, -4.0760],\n",
      "        [ 3.7870, -4.0323],\n",
      "        [ 3.3371, -3.5817],\n",
      "        [ 3.8802, -4.1542],\n",
      "        [ 3.8308, -4.0992],\n",
      "        [ 3.6996, -4.0461],\n",
      "        [ 3.4066, -3.6155],\n",
      "        [ 3.7791, -3.9818],\n",
      "        [ 3.8693, -4.1375],\n",
      "        [ 3.7772, -4.0446]], device='cuda:0')\n",
      "tensor([[ 3.8589, -4.1307],\n",
      "        [ 3.7498, -4.0435],\n",
      "        [ 3.7660, -4.0304],\n",
      "        [ 3.8422, -4.1178],\n",
      "        [ 3.6471, -3.9677],\n",
      "        [ 3.8655, -4.1216],\n",
      "        [ 3.8256, -4.1071],\n",
      "        [ 3.8045, -4.1053],\n",
      "        [ 3.8392, -4.0978],\n",
      "        [ 3.8103, -4.0886],\n",
      "        [ 3.5813, -3.9227],\n",
      "        [ 3.8401, -4.1127],\n",
      "        [ 3.8519, -4.1186],\n",
      "        [ 3.3265, -3.5723],\n",
      "        [ 3.7727, -4.0846],\n",
      "        [ 3.6451, -3.9326]], device='cuda:0')\n",
      "tensor([[ 0.7861, -0.9228],\n",
      "        [ 3.8439, -4.1129],\n",
      "        [ 3.8256, -4.1071],\n",
      "        [ 3.8381, -4.1017],\n",
      "        [ 3.8403, -4.0979],\n",
      "        [ 3.8256, -4.1071],\n",
      "        [ 3.8206, -4.1008],\n",
      "        [ 3.7993, -4.0509],\n",
      "        [ 3.7920, -4.0522],\n",
      "        [ 3.7791, -3.9800],\n",
      "        [ 3.7727, -4.0846],\n",
      "        [ 3.8802, -4.1542],\n",
      "        [ 3.3214, -3.5694],\n",
      "        [ 3.8802, -4.1542],\n",
      "        [ 2.8090, -2.9979],\n",
      "        [ 3.7978, -4.0474]], device='cuda:0')\n",
      "tensor([[ 3.8244, -4.0949],\n",
      "        [ 3.8802, -4.1542],\n",
      "        [ 3.8802, -4.1542],\n",
      "        [ 3.8107, -4.0666],\n",
      "        [ 3.8613, -4.1331],\n",
      "        [ 3.8802, -4.1542],\n",
      "        [ 3.3447, -3.5512],\n",
      "        [ 3.7379, -4.0293],\n",
      "        [ 3.8802, -4.1542],\n",
      "        [ 3.8130, -4.0901],\n",
      "        [ 3.8196, -4.0824],\n",
      "        [ 3.8256, -4.1071],\n",
      "        [ 3.7903, -4.0546],\n",
      "        [ 3.8256, -4.1071],\n",
      "        [ 3.8256, -4.1071],\n",
      "        [ 3.7833, -4.0889]], device='cuda:0')\n",
      "tensor([[ 3.8256, -4.1071],\n",
      "        [ 2.6143, -2.7914],\n",
      "        [-0.9136,  0.9187],\n",
      "        [ 3.6959, -4.0270],\n",
      "        [ 3.8106, -4.0894],\n",
      "        [ 3.8225, -4.1054],\n",
      "        [ 3.8802, -4.1542],\n",
      "        [ 3.8368, -4.0905],\n",
      "        [ 3.8802, -4.1542],\n",
      "        [ 3.8802, -4.1542],\n",
      "        [ 3.8256, -4.1071],\n",
      "        [ 3.8802, -4.1542],\n",
      "        [ 3.7990, -4.0686],\n",
      "        [ 3.7990, -4.0686],\n",
      "        [ 3.3142, -3.5220],\n",
      "        [ 3.8362, -4.0626]], device='cuda:0')\n",
      "tensor([[ 3.8567, -4.1087],\n",
      "        [ 3.8734, -4.1369],\n",
      "        [ 3.7321, -4.0400],\n",
      "        [ 3.8058, -4.0681],\n",
      "        [ 3.8802, -4.1542],\n",
      "        [ 3.8802, -4.1542],\n",
      "        [ 3.8242, -4.0833],\n",
      "        [ 3.8802, -4.1542],\n",
      "        [ 3.7007, -4.0264],\n",
      "        [ 3.8158, -4.0765],\n",
      "        [ 3.8802, -4.1542],\n",
      "        [ 3.5649, -3.8695],\n",
      "        [ 3.7595, -4.0329],\n",
      "        [ 3.8802, -4.1542],\n",
      "        [ 3.8070, -4.0442],\n",
      "        [ 3.8153, -4.0730]], device='cuda:0')\n",
      "tensor([[ 3.7540, -4.0698],\n",
      "        [ 3.8261, -4.0503],\n",
      "        [ 3.7379, -4.0293],\n",
      "        [ 3.7909, -4.0586],\n",
      "        [ 3.8512, -4.1224],\n",
      "        [ 3.8050, -4.0896],\n",
      "        [ 3.8802, -4.1542],\n",
      "        [ 3.6311, -3.9393],\n",
      "        [ 3.7222, -4.0422],\n",
      "        [ 1.3994, -1.5395],\n",
      "        [ 3.8503, -4.0916],\n",
      "        [ 3.7775, -4.0685],\n",
      "        [ 3.8522, -4.1134],\n",
      "        [ 3.7848, -4.0859],\n",
      "        [ 3.7896, -4.0369],\n",
      "        [ 3.8802, -4.1542]], device='cuda:0')\n",
      "tensor([[ 3.7835, -4.0505],\n",
      "        [ 3.6859, -4.0238],\n",
      "        [ 3.7725, -4.0217],\n",
      "        [ 3.8530, -4.1181],\n",
      "        [ 3.8036, -4.0722],\n",
      "        [ 3.8802, -4.1542],\n",
      "        [ 3.8802, -4.1542],\n",
      "        [ 3.8256, -4.1071],\n",
      "        [ 3.8802, -4.1542],\n",
      "        [ 3.5978, -3.9189],\n",
      "        [ 3.8696, -4.1380],\n",
      "        [ 3.8802, -4.1542],\n",
      "        [ 3.8237, -4.0918],\n",
      "        [ 3.8258, -4.1117],\n",
      "        [ 2.7284, -2.9456],\n",
      "        [ 3.8802, -4.1542]], device='cuda:0')\n",
      "tensor([[ 3.8256, -4.1071],\n",
      "        [ 3.8604, -4.1153],\n",
      "        [ 3.7727, -4.0846],\n",
      "        [ 3.8490, -4.1146],\n",
      "        [ 3.7437, -4.0632],\n",
      "        [ 3.8256, -4.1071],\n",
      "        [ 3.8802, -4.1542],\n",
      "        [ 3.8802, -4.1542],\n",
      "        [ 3.8561, -4.1208],\n",
      "        [ 0.3660, -0.4074],\n",
      "        [ 3.6089, -3.9095],\n",
      "        [ 3.7359, -4.0366],\n",
      "        [ 3.7775, -4.0685],\n",
      "        [ 3.8378, -4.0856],\n",
      "        [ 3.8802, -4.1542],\n",
      "        [ 0.1604, -0.2236]], device='cuda:0')\n",
      "tensor([[ 3.8102, -4.0859],\n",
      "        [ 3.8327, -4.1249],\n",
      "        [ 3.8802, -4.1542],\n",
      "        [ 3.8802, -4.1542],\n",
      "        [ 3.8802, -4.1542],\n",
      "        [ 3.8802, -4.1542],\n",
      "        [ 3.8713, -4.1372],\n",
      "        [ 3.7767, -4.0794],\n",
      "        [ 3.8802, -4.1542],\n",
      "        [ 3.6634, -3.9248],\n",
      "        [ 3.6957, -4.0332],\n",
      "        [ 3.8802, -4.1542],\n",
      "        [ 3.8284, -4.1162],\n",
      "        [ 3.6932, -4.0205],\n",
      "        [ 3.4645, -3.6557],\n",
      "        [ 3.7958, -4.0641]], device='cuda:0')\n",
      "tensor([[ 3.8072, -4.0667],\n",
      "        [ 3.8802, -4.1542],\n",
      "        [ 3.8340, -4.1033],\n",
      "        [ 3.8638, -4.1339],\n",
      "        [ 3.8802, -4.1542],\n",
      "        [ 3.8150, -4.0790],\n",
      "        [ 3.7373, -4.0562],\n",
      "        [ 3.8802, -4.1542],\n",
      "        [ 3.8090, -4.0845],\n",
      "        [ 3.6612, -3.9278],\n",
      "        [ 3.8604, -4.1188],\n",
      "        [ 3.7829, -4.0868],\n",
      "        [ 3.8802, -4.1542],\n",
      "        [ 3.8802, -4.1542],\n",
      "        [ 3.8802, -4.1542],\n",
      "        [ 3.8802, -4.1542]], device='cuda:0')\n",
      "tensor([[ 3.8043, -4.0216],\n",
      "        [ 3.8628, -4.1287],\n",
      "        [ 3.8756, -4.1324],\n",
      "        [ 3.8543, -4.1283],\n",
      "        [ 3.8256, -4.1071],\n",
      "        [ 3.8026, -4.0615],\n",
      "        [ 3.8802, -4.1542],\n",
      "        [ 3.8802, -4.1542],\n",
      "        [ 3.6211, -3.8770],\n",
      "        [ 3.7858, -4.0357],\n",
      "        [ 3.8192, -4.0824],\n",
      "        [ 3.8802, -4.1542],\n",
      "        [ 3.8802, -4.1542],\n",
      "        [ 3.8308, -4.0865],\n",
      "        [ 3.8802, -4.1296],\n",
      "        [ 3.8802, -4.1542]], device='cuda:0')\n",
      "tensor([[ 3.0879, -3.3328],\n",
      "        [ 3.8802, -4.1542],\n",
      "        [ 3.8802, -4.1542],\n",
      "        [ 3.8794, -4.1589],\n",
      "        [ 3.8076, -4.0835],\n",
      "        [ 3.8537, -4.1193],\n",
      "        [ 3.8057, -4.0581],\n",
      "        [ 3.7932, -3.9920],\n",
      "        [ 3.8368, -4.1010],\n",
      "        [ 3.8485, -4.1203],\n",
      "        [ 3.6782, -3.9973],\n",
      "        [ 3.7547, -4.0471],\n",
      "        [ 3.8802, -4.1542],\n",
      "        [ 3.8170, -4.0832],\n",
      "        [ 3.8376, -4.0938],\n",
      "        [ 3.6410, -3.9505]], device='cuda:0')\n",
      "tensor([[ 3.7849, -4.1020],\n",
      "        [ 3.8267, -4.1108],\n",
      "        [ 3.8256, -4.1071],\n",
      "        [ 3.8561, -4.1223],\n",
      "        [ 3.7817, -4.0416],\n",
      "        [ 3.8485, -4.1012],\n",
      "        [ 3.7044, -4.0045],\n",
      "        [ 3.8350, -4.0876],\n",
      "        [ 3.8802, -4.1542],\n",
      "        [ 3.8802, -4.1542],\n",
      "        [ 3.7222, -4.0296],\n",
      "        [ 3.8405, -4.1057],\n",
      "        [ 3.8294, -4.1230],\n",
      "        [ 3.8432, -4.1009],\n",
      "        [ 3.8802, -4.1542],\n",
      "        [ 3.7222, -4.0296]], device='cuda:0')\n",
      "tensor([[ 3.7833, -4.0665],\n",
      "        [ 3.8256, -4.1071],\n",
      "        [ 3.8312, -4.0931],\n",
      "        [ 3.8802, -4.1542],\n",
      "        [ 3.7945, -4.0989],\n",
      "        [ 3.8802, -4.1542],\n",
      "        [ 3.8256, -4.1071],\n",
      "        [ 3.8429, -4.1226],\n",
      "        [ 3.8407, -4.1128],\n",
      "        [ 3.8571, -4.1361],\n",
      "        [ 3.7034, -4.0373],\n",
      "        [ 3.6532, -3.9590],\n",
      "        [ 3.7648, -4.0510],\n",
      "        [ 3.8465, -4.1208],\n",
      "        [ 3.8802, -4.1542],\n",
      "        [ 3.8186, -4.0865]], device='cuda:0')\n",
      "tensor([[ 3.8329, -4.1153],\n",
      "        [ 3.8802, -4.1542],\n",
      "        [ 3.8802, -4.1542],\n",
      "        [ 3.8413, -4.1102],\n",
      "        [ 3.8119, -4.0562],\n",
      "        [ 3.8802, -4.1542],\n",
      "        [ 3.7536, -4.0702],\n",
      "        [ 3.8099, -4.0762],\n",
      "        [ 3.3794, -3.7236],\n",
      "        [ 3.8256, -4.1071],\n",
      "        [ 3.8802, -4.1542],\n",
      "        [ 1.9873, -2.2191],\n",
      "        [ 3.8802, -4.1542],\n",
      "        [ 3.8256, -4.1071],\n",
      "        [ 3.8802, -4.1542],\n",
      "        [ 3.8802, -4.1542]], device='cuda:0')\n",
      "tensor([[ 3.8438, -4.1125],\n",
      "        [ 3.8063, -4.1099],\n",
      "        [ 3.8205, -4.0845],\n",
      "        [ 3.8703, -4.1318],\n",
      "        [ 3.8547, -4.1313],\n",
      "        [ 3.8802, -4.1542],\n",
      "        [ 3.7498, -4.0435],\n",
      "        [ 3.7354, -4.0586],\n",
      "        [ 3.8802, -4.1542],\n",
      "        [ 3.6970, -4.0052],\n",
      "        [ 3.8121, -4.0786],\n",
      "        [ 3.8223, -4.0584],\n",
      "        [ 3.7716, -4.0817],\n",
      "        [ 3.8029, -4.0889],\n",
      "        [-0.1317,  0.0820],\n",
      "        [ 3.8802, -4.1542]], device='cuda:0')\n",
      "tensor([[ 3.8256, -4.1071],\n",
      "        [ 3.8021, -4.1147],\n",
      "        [ 3.8802, -4.1542],\n",
      "        [ 3.7945, -4.0989],\n",
      "        [ 3.8253, -4.1101],\n",
      "        [ 3.8345, -4.0686],\n",
      "        [ 3.8802, -4.1542],\n",
      "        [ 3.8496, -4.0969],\n",
      "        [ 3.3307, -3.5722],\n",
      "        [ 3.7879, -4.0183],\n",
      "        [ 3.7959, -4.0577],\n",
      "        [ 3.8802, -4.1542],\n",
      "        [ 3.8113, -4.1335],\n",
      "        [ 3.8256, -4.1071],\n",
      "        [ 3.8802, -4.1542],\n",
      "        [ 3.8802, -4.1542]], device='cuda:0')\n",
      "tensor([[ 3.7952, -4.0987],\n",
      "        [-0.9374,  0.9312],\n",
      "        [ 3.8693, -4.1375],\n",
      "        [ 3.8802, -4.1542],\n",
      "        [ 3.7797, -4.0392],\n",
      "        [ 3.8232, -4.0971],\n",
      "        [ 3.8802, -4.1542],\n",
      "        [ 3.7808, -4.0351],\n",
      "        [ 3.8113, -4.1335],\n",
      "        [ 3.7555, -4.0499],\n",
      "        [ 3.3246, -3.5225],\n",
      "        [ 3.8133, -4.0851],\n",
      "        [ 3.6409, -3.9685],\n",
      "        [ 3.8304, -4.0811],\n",
      "        [ 3.8259, -4.1012],\n",
      "        [ 3.8113, -4.1335]], device='cuda:0')\n",
      "tensor([[ 3.8256, -4.1071],\n",
      "        [ 3.8652, -4.1278],\n",
      "        [ 3.7643, -4.0544],\n",
      "        [ 3.7639, -4.0843],\n",
      "        [ 3.7990, -4.0686],\n",
      "        [ 3.8577, -4.1089],\n",
      "        [ 3.8802, -4.1542],\n",
      "        [ 3.7362, -4.0303],\n",
      "        [ 3.8485, -4.1141],\n",
      "        [ 3.8256, -4.1071],\n",
      "        [ 3.8466, -4.1043],\n",
      "        [ 0.4626, -0.5969],\n",
      "        [ 0.4020, -0.5351],\n",
      "        [ 3.8105, -4.0945],\n",
      "        [ 3.7222, -4.0296],\n",
      "        [ 3.7222, -4.0296]], device='cuda:0')\n",
      "tensor([[ 3.6843, -3.8951],\n",
      "        [ 3.7802, -4.0496],\n",
      "        [ 3.7482, -4.0159],\n",
      "        [ 3.7635, -4.0694],\n",
      "        [ 3.8117, -4.0754],\n",
      "        [ 3.8802, -4.1542],\n",
      "        [ 3.7588, -4.0478],\n",
      "        [ 3.8477, -4.1028],\n",
      "        [ 3.7945, -4.0989],\n",
      "        [ 3.8166, -4.0615],\n",
      "        [ 3.7010, -4.0271],\n",
      "        [ 3.8003, -4.0523],\n",
      "        [ 3.8152, -4.0694],\n",
      "        [ 3.7526, -4.0489],\n",
      "        [ 3.8460, -4.1177],\n",
      "        [ 3.8802, -4.1542]], device='cuda:0')\n",
      "tensor([[ 3.8401, -4.1056],\n",
      "        [ 3.8802, -4.1542],\n",
      "        [ 3.8256, -4.1071],\n",
      "        [ 3.7316, -4.0553],\n",
      "        [ 0.1889, -0.2660],\n",
      "        [ 3.7588, -4.0478],\n",
      "        [ 3.8113, -4.1335],\n",
      "        [ 3.8802, -4.1542],\n",
      "        [ 3.8767, -4.1373],\n",
      "        [ 3.8570, -4.0905],\n",
      "        [ 3.8802, -4.1542],\n",
      "        [ 3.8673, -4.1312],\n",
      "        [ 3.8693, -4.1375],\n",
      "        [ 3.8144, -4.0539],\n",
      "        [ 3.8802, -4.1542],\n",
      "        [ 3.7808, -4.0721]], device='cuda:0')\n",
      "tensor([[ 3.8158, -4.0795],\n",
      "        [ 3.8802, -4.1542],\n",
      "        [ 3.7070, -3.9983],\n",
      "        [ 3.8802, -4.1542],\n",
      "        [ 3.8084, -4.1102],\n",
      "        [ 3.8256, -4.1071],\n",
      "        [ 3.8256, -4.1071],\n",
      "        [ 3.8802, -4.1542],\n",
      "        [ 3.8802, -4.1542],\n",
      "        [ 3.8256, -4.1071],\n",
      "        [ 3.7943, -4.0700],\n",
      "        [ 3.7820, -4.0516],\n",
      "        [ 3.8256, -4.1071],\n",
      "        [ 3.8221, -4.0874],\n",
      "        [ 3.7915, -4.0457],\n",
      "        [ 3.8256, -4.1071]], device='cuda:0')\n",
      "tensor([[ 3.8802, -4.1542],\n",
      "        [ 3.8256, -4.1071],\n",
      "        [ 3.8130, -4.0901],\n",
      "        [ 3.8078, -4.0456],\n",
      "        [ 3.8033, -4.0533],\n",
      "        [ 3.5325, -3.8802],\n",
      "        [ 3.7284, -4.0247],\n",
      "        [ 3.7743, -4.0485],\n",
      "        [ 3.8284, -4.0928],\n",
      "        [ 3.8256, -4.1071],\n",
      "        [ 3.7960, -4.0502],\n",
      "        [ 2.7639, -2.9201],\n",
      "        [ 3.7893, -4.0478],\n",
      "        [ 3.8259, -4.1151],\n",
      "        [ 3.7777, -4.0356],\n",
      "        [ 3.8253, -4.0623]], device='cuda:0')\n",
      "tensor([[ 3.8802, -4.1542],\n",
      "        [ 3.8802, -4.1542],\n",
      "        [ 3.5919, -3.9242],\n",
      "        [ 3.8512, -4.1120],\n",
      "        [ 3.8365, -4.0790],\n",
      "        [ 3.8223, -4.0946],\n",
      "        [ 3.7945, -4.0989],\n",
      "        [ 3.8802, -4.1542],\n",
      "        [ 3.8802, -4.1542],\n",
      "        [ 3.8643, -4.1483],\n",
      "        [ 3.8802, -4.1542],\n",
      "        [ 3.8065, -4.0690],\n",
      "        [ 3.7284, -4.0247],\n",
      "        [ 3.7994, -4.0619],\n",
      "        [-0.3274,  0.2903],\n",
      "        [ 3.5646, -3.8853]], device='cuda:0')\n",
      "tensor([[ 3.8802, -4.1542],\n",
      "        [ 3.8052, -4.0767],\n",
      "        [ 3.8686, -4.1398],\n",
      "        [ 3.6977, -4.0032],\n",
      "        [ 3.7775, -4.0685],\n",
      "        [ 3.8802, -4.1542],\n",
      "        [ 3.8432, -4.1096],\n",
      "        [ 3.6878, -3.9834],\n",
      "        [ 3.8530, -4.1346],\n",
      "        [ 3.7225, -3.9396],\n",
      "        [ 3.8252, -4.0784],\n",
      "        [ 3.8802, -4.1542],\n",
      "        [ 3.8487, -4.1226],\n",
      "        [ 3.7836, -4.0525],\n",
      "        [ 3.8256, -4.1071],\n",
      "        [ 3.8458, -4.0972]], device='cuda:0')\n",
      "tensor([[ 3.8802, -4.1542],\n",
      "        [ 3.8802, -4.1542],\n",
      "        [ 3.8408, -4.1194],\n",
      "        [ 3.8693, -4.1375],\n",
      "        [ 3.8256, -4.1071],\n",
      "        [ 3.8638, -4.1383],\n",
      "        [ 3.8802, -4.1542],\n",
      "        [ 3.5872, -3.8332],\n",
      "        [ 3.7811, -4.0819],\n",
      "        [ 3.7997, -4.0518],\n",
      "        [ 3.8256, -4.1071],\n",
      "        [ 3.8073, -4.0922],\n",
      "        [ 3.0457, -3.4165],\n",
      "        [ 3.7498, -4.0435],\n",
      "        [ 3.8113, -4.1335],\n",
      "        [ 3.8284, -4.1162]], device='cuda:0')\n",
      "tensor([[ 3.8802, -4.1542],\n",
      "        [ 3.8256, -4.1071],\n",
      "        [ 3.8491, -4.1367],\n",
      "        [ 3.8802, -4.1542],\n",
      "        [ 3.8218, -4.0853],\n",
      "        [ 3.8802, -4.1542],\n",
      "        [ 3.8266, -4.0811],\n",
      "        [ 3.8847, -4.1596],\n",
      "        [ 3.7258, -4.0498],\n",
      "        [ 3.8802, -4.1542],\n",
      "        [ 3.8802, -4.1542],\n",
      "        [ 3.8626, -4.1107],\n",
      "        [ 3.8647, -4.1403],\n",
      "        [ 3.7803, -4.0477],\n",
      "        [ 3.8652, -4.1137],\n",
      "        [ 3.8363, -4.0938]], device='cuda:0')\n",
      "tensor([[ 3.7706, -4.0530],\n",
      "        [ 3.8164, -4.1070],\n",
      "        [ 3.8512, -4.1120],\n",
      "        [ 3.7920, -4.0635],\n",
      "        [ 3.8626, -4.1345],\n",
      "        [ 3.5978, -3.9189],\n",
      "        [ 3.6757, -3.8978],\n",
      "        [ 3.8142, -4.0866],\n",
      "        [ 3.7775, -4.0685],\n",
      "        [ 3.7986, -4.0747],\n",
      "        [ 3.8116, -4.0665],\n",
      "        [ 3.7990, -4.0686],\n",
      "        [ 3.8256, -4.1071],\n",
      "        [ 3.8132, -4.0745],\n",
      "        [ 3.7994, -4.0045],\n",
      "        [ 3.7505, -4.0635]], device='cuda:0')\n",
      "tensor([[ 3.7081, -4.0142],\n",
      "        [ 3.8296, -4.1079],\n",
      "        [ 3.7359, -4.0366],\n",
      "        [ 3.8125, -4.0808],\n",
      "        [ 3.7258, -4.0498],\n",
      "        [ 3.8579, -4.1309],\n",
      "        [ 3.3360, -3.5731],\n",
      "        [ 3.8131, -4.0848],\n",
      "        [ 3.8113, -4.1335],\n",
      "        [ 3.8000, -4.0711],\n",
      "        [ 3.8802, -4.1542],\n",
      "        [ 3.8802, -4.1542],\n",
      "        [ 3.6016, -3.9764],\n",
      "        [ 3.7588, -4.0478],\n",
      "        [ 3.8647, -4.1305],\n",
      "        [ 3.8802, -4.1542]], device='cuda:0')\n",
      "tensor([[ 3.8113, -4.1335],\n",
      "        [ 3.8802, -4.1542],\n",
      "        [ 3.8681, -4.1332],\n",
      "        [ 3.6555, -3.9725],\n",
      "        [ 3.7902, -4.0546],\n",
      "        [-0.4192,  0.3361],\n",
      "        [ 3.8227, -4.1017],\n",
      "        [ 3.6627, -3.8951],\n",
      "        [ 1.0809, -1.1645],\n",
      "        [ 3.7990, -4.0686],\n",
      "        [ 3.7994, -4.0697],\n",
      "        [ 3.8228, -4.0921],\n",
      "        [ 3.8519, -4.1299],\n",
      "        [-0.2593,  0.2209],\n",
      "        [ 3.7644, -4.0564],\n",
      "        [ 3.8802, -4.1542]], device='cuda:0')\n",
      "tensor([[ 0.0525, -0.1284],\n",
      "        [ 3.7990, -4.0686],\n",
      "        [ 3.8802, -4.1542],\n",
      "        [ 3.8018, -4.0618],\n",
      "        [ 3.8802, -4.1542],\n",
      "        [ 2.2121, -2.4018],\n",
      "        [ 3.7990, -4.0686],\n",
      "        [ 3.7935, -4.0587],\n",
      "        [ 3.7990, -4.0686],\n",
      "        [ 3.7963, -4.0163],\n",
      "        [ 3.8802, -4.1542],\n",
      "        [ 3.8802, -4.1542],\n",
      "        [ 3.8802, -4.1542],\n",
      "        [ 3.8802, -4.1542],\n",
      "        [ 3.7922, -4.0045],\n",
      "        [ 3.7983, -4.0471]], device='cuda:0')\n",
      "tensor([[ 3.8475, -4.1098],\n",
      "        [ 3.8359, -4.1170],\n",
      "        [ 3.8529, -4.1434],\n",
      "        [ 3.8113, -4.1335],\n",
      "        [ 3.7082, -4.0328],\n",
      "        [-0.9290,  0.9118],\n",
      "        [ 3.8802, -4.1542],\n",
      "        [ 3.8802, -4.1542],\n",
      "        [ 3.7807, -4.0474],\n",
      "        [ 3.7990, -4.0686],\n",
      "        [ 3.6034, -3.9257],\n",
      "        [ 3.0048, -3.3197],\n",
      "        [ 3.8693, -4.1375],\n",
      "        [ 3.8802, -4.1542],\n",
      "        [ 3.8554, -4.1326],\n",
      "        [ 3.7975, -4.0524]], device='cuda:0')\n",
      "tensor([[ 3.8802, -4.1542],\n",
      "        [ 3.8239, -4.0745],\n",
      "        [ 3.5626, -3.7787],\n",
      "        [ 3.8481, -4.1217],\n",
      "        [ 3.8155, -4.0569],\n",
      "        [ 3.8802, -4.1542],\n",
      "        [ 3.8479, -4.0969],\n",
      "        [ 3.8143, -4.0861],\n",
      "        [ 3.7284, -4.0247],\n",
      "        [ 3.8802, -4.1542],\n",
      "        [ 3.4413, -3.7684],\n",
      "        [ 3.8357, -4.0947],\n",
      "        [ 0.2228, -0.2921],\n",
      "        [ 3.8309, -4.0963],\n",
      "        [ 3.8802, -4.1542],\n",
      "        [ 3.8802, -4.1542]], device='cuda:0')\n",
      "tensor([[ 3.8254, -4.1156],\n",
      "        [ 3.7922, -4.0494],\n",
      "        [ 3.8063, -4.0822],\n",
      "        [ 3.8644, -4.1391],\n",
      "        [ 3.8802, -4.1542],\n",
      "        [-0.9136,  0.9187],\n",
      "        [ 3.7359, -4.0366],\n",
      "        [ 3.6975, -4.0164],\n",
      "        [ 0.8130, -0.9371],\n",
      "        [ 3.7339, -4.0255],\n",
      "        [ 3.7816, -4.0594],\n",
      "        [ 3.4571, -3.6459],\n",
      "        [ 3.8636, -4.1262],\n",
      "        [ 3.7429, -3.9637],\n",
      "        [ 3.8352, -4.1121],\n",
      "        [ 3.8802, -4.1542]], device='cuda:0')\n",
      "tensor([[ 3.7994, -4.0697],\n",
      "        [ 3.8725, -4.1318],\n",
      "        [ 3.8802, -4.1542],\n",
      "        [ 3.8802, -4.1542],\n",
      "        [ 3.8641, -4.1269],\n",
      "        [ 3.8802, -4.1542],\n",
      "        [ 3.8646, -4.1369],\n",
      "        [ 3.8256, -4.1071],\n",
      "        [ 3.8802, -4.1542],\n",
      "        [ 3.8739, -4.1365],\n",
      "        [ 3.7104, -4.0174],\n",
      "        [ 3.8219, -4.0892],\n",
      "        [ 3.8136, -4.0921],\n",
      "        [ 3.8802, -4.1542],\n",
      "        [ 3.8800, -4.1535],\n",
      "        [ 3.7990, -4.0686]], device='cuda:0')\n",
      "tensor([[ 3.8285, -4.1231],\n",
      "        [ 3.8256, -4.1071],\n",
      "        [ 3.7822, -4.0306],\n",
      "        [ 3.8802, -4.1542],\n",
      "        [ 3.8802, -4.1542],\n",
      "        [ 3.8256, -4.1071],\n",
      "        [ 3.6829, -3.9220],\n",
      "        [ 3.7694, -4.0880],\n",
      "        [ 3.8326, -4.1022],\n",
      "        [ 3.7994, -4.0697],\n",
      "        [ 3.8802, -4.1542],\n",
      "        [ 3.8802, -4.1542],\n",
      "        [ 3.8720, -4.1147],\n",
      "        [ 3.8199, -4.0895],\n",
      "        [ 3.8043, -4.0863],\n",
      "        [ 3.7868, -4.0543]], device='cuda:0')\n",
      "tensor([[ 3.7644, -4.0564],\n",
      "        [ 3.8802, -4.1542],\n",
      "        [ 3.8802, -4.1542],\n",
      "        [ 3.1243, -3.3853],\n",
      "        [ 3.8693, -4.1375],\n",
      "        [ 3.7498, -4.0435],\n",
      "        [ 3.7644, -4.0564],\n",
      "        [ 3.8059, -4.0746],\n",
      "        [ 3.8009, -4.0404],\n",
      "        [ 3.8802, -4.1542],\n",
      "        [ 3.5978, -3.9189],\n",
      "        [ 3.8802, -4.1542],\n",
      "        [ 3.7694, -4.0880],\n",
      "        [ 3.8802, -4.1542],\n",
      "        [ 3.8685, -4.1327],\n",
      "        [ 3.3754, -3.6874]], device='cuda:0')\n",
      "tensor([[ 3.8128, -4.0248],\n",
      "        [ 3.7794, -4.0520],\n",
      "        [ 3.3347, -3.5790],\n",
      "        [ 3.8802, -4.1542],\n",
      "        [ 3.8083, -4.0693],\n",
      "        [ 3.8438, -4.1350],\n",
      "        [ 3.7994, -4.0697],\n",
      "        [ 3.6247, -3.8787],\n",
      "        [ 3.8802, -4.1542],\n",
      "        [ 3.8802, -4.1542],\n",
      "        [ 3.7557, -4.0687],\n",
      "        [ 3.6790, -3.8881],\n",
      "        [ 3.8212, -4.1011],\n",
      "        [ 3.7319, -4.0365],\n",
      "        [ 3.8802, -4.1542],\n",
      "        [ 3.8802, -4.1542]], device='cuda:0')\n",
      "tensor([[ 0.4499, -0.5207],\n",
      "        [ 3.7555, -4.0499],\n",
      "        [ 3.7090, -4.0164],\n",
      "        [ 3.8199, -4.1140],\n",
      "        [ 3.8802, -4.1542]], device='cuda:0')\n"
     ]
    }
   ],
   "source": [
    "results = []\n",
    "\n",
    "model.eval()\n",
    "for batch in eval_dataloader:\n",
    "    batch = {k: v.to(device) for k, v in batch.items()}\n",
    "    with torch.no_grad():\n",
    "        outputs = model(**batch)\n",
    "\n",
    "    logits = outputs.logits\n",
    "    print(logits)\n",
    "    predictions = torch.argmax(logits, dim=-1)\n",
    "    # print(predictions, batch['labels'])\n",
    "    for index in range(len(predictions)):\n",
    "        results.append((batch['labels'][index], predictions[index]))\n"
   ],
   "metadata": {
    "collapsed": false,
    "ExecuteTime": {
     "start_time": "2023-04-10T20:02:06.701469Z",
     "end_time": "2023-04-10T20:02:10.808541Z"
    }
   }
  },
  {
   "cell_type": "code",
   "execution_count": 33,
   "outputs": [],
   "source": [],
   "metadata": {
    "collapsed": false,
    "ExecuteTime": {
     "start_time": "2023-04-10T20:02:10.808258Z",
     "end_time": "2023-04-10T20:02:10.808633Z"
    }
   }
  },
  {
   "cell_type": "code",
   "execution_count": 34,
   "outputs": [],
   "source": [
    "# results = []\n",
    "# model.to('cuda')\n",
    "# for i in range(len(testing_dataset)):\n",
    "#     code = testing_dataset[i]\n",
    "#     label = code['label']\n",
    "#     input_ids = torch.tensor(code[\"input_ids\"]).to('cuda')\n",
    "#     attention_mask = torch.tensor(code[\"attention_mask\"]).to('cuda')\n",
    "#     with torch.no_grad():\n",
    "#         outputs = model(input_ids.unsqueeze(0), attention_mask.unsqueeze(0))\n",
    "#         print(outputs)\n",
    "#     y = np.argmax(outputs[0].to('cpu').numpy())\n",
    "#     results.append((label, y))"
   ],
   "metadata": {
    "collapsed": false,
    "ExecuteTime": {
     "start_time": "2023-04-10T20:02:10.808286Z",
     "end_time": "2023-04-10T20:02:10.812790Z"
    }
   }
  },
  {
   "cell_type": "code",
   "execution_count": 35,
   "outputs": [
    {
     "name": "stdout",
     "output_type": "stream",
     "text": [
      "(tensor(0, device='cuda:0'), tensor(0, device='cuda:0'))\n",
      "True Positive: 9\n",
      "True Negative: 1017\n",
      "False Positive: 2\n",
      "False Negative: 1\n",
      "Accuracy: 0.9970845481049563\n",
      "Precision: 0.8181818181818182\n",
      "Recall: 0.9\n",
      "F1-score 0.8571428571428572\n",
      "Specificity: 0.9980372914622179\n"
     ]
    }
   ],
   "source": [
    "true_positive = 0\n",
    "false_positive = 0\n",
    "true_negative = 0\n",
    "false_negative = 0\n",
    "\n",
    "print(results[0])\n",
    "# Generates count of inference quadrants\n",
    "for real, predicted in results:\n",
    "    if real == True and predicted == 1:\n",
    "        true_positive += 1\n",
    "    elif real == False and predicted == 0:\n",
    "        true_negative += 1\n",
    "    elif real == True and predicted == 0:\n",
    "        false_negative += 1\n",
    "    elif real == False and predicted == 1:\n",
    "        false_positive += 1\n",
    "\n",
    "# print(l2)\n",
    "print(\"True Positive:\", true_positive)\n",
    "print(\"True Negative:\", true_negative)\n",
    "print(\"False Positive:\", false_positive)\n",
    "print(\"False Negative:\", false_negative)\n",
    "\n",
    "# Machine Learning statistics and visuals. https://towardsdatascience.com/accuracy-recall-precision-f-score-specificity-which-to-optimize-on-867d3f11124\n",
    "print(\"Accuracy:\", (true_positive + true_negative)/(true_positive + true_negative + false_positive + false_negative))\n",
    "precision = true_positive/(true_positive + false_positive)\n",
    "print(\"Precision:\", precision)\n",
    "recall = true_positive/(true_positive + false_negative)\n",
    "print(\"Recall:\", recall)\n",
    "print(\"F1-score\", 2*(recall * precision)/(recall + precision))\n",
    "print(\"Specificity:\", true_negative/(true_negative + false_positive))"
   ],
   "metadata": {
    "collapsed": false,
    "ExecuteTime": {
     "start_time": "2023-04-10T20:02:10.812739Z",
     "end_time": "2023-04-10T20:02:10.813063Z"
    }
   }
  },
  {
   "cell_type": "code",
   "execution_count": null,
   "outputs": [],
   "source": [],
   "metadata": {
    "collapsed": false
   }
  },
  {
   "cell_type": "code",
   "execution_count": null,
   "outputs": [],
   "source": [
    "from matplotlib import pyplot as plt\n",
    "from sklearn.metrics import confusion_matrix\n",
    "import seaborn as sn\n",
    "real = []\n",
    "predicted = []\n",
    "for r, p in results:\n",
    "    real.append(r)\n",
    "    predicted.append(p)\n",
    "cf_matrix = confusion_matrix(real, predicted)\n",
    "df_cm = pd.DataFrame(cf_matrix, index=[0, 1],\n",
    "                     columns=[0, 1])\n",
    "plt.figure(figsize=(12, 7))\n",
    "sn.heatmap(df_cm, annot=True)"
   ],
   "metadata": {
    "collapsed": false
   }
  },
  {
   "cell_type": "code",
   "execution_count": null,
   "outputs": [],
   "source": [
    "torch.save(model.state_dict(), '/home/venglov/Documents/mcd_data/data_v2/opcodes_model_weights_v2.pth')"
   ],
   "metadata": {
    "collapsed": false
   }
  },
  {
   "cell_type": "code",
   "execution_count": null,
   "outputs": [],
   "source": [
    "model.load_state_dict(torch.load(\"/home/venglov/Documents/mcd_data/data_v2/opcodes_model_weights_v2.pth\"))"
   ],
   "metadata": {
    "collapsed": false
   }
  },
  {
   "cell_type": "code",
   "execution_count": null,
   "outputs": [],
   "source": [
    "model.eval()\n"
   ],
   "metadata": {
    "collapsed": false
   }
  },
  {
   "cell_type": "code",
   "execution_count": null,
   "outputs": [],
   "source": [
    "model.to(device)"
   ],
   "metadata": {
    "collapsed": false
   }
  },
  {
   "cell_type": "code",
   "execution_count": null,
   "outputs": [],
   "source": [
    "tokenizer = DistilBertTokenizerFast.from_pretrained(\"distilbert-base-uncased\")\n"
   ],
   "metadata": {
    "collapsed": false
   }
  },
  {
   "cell_type": "code",
   "execution_count": null,
   "outputs": [],
   "source": [
    "w3 = Web3(Web3.HTTPProvider(\"https://eth-mainnet.gateway.pokt.network/v1/lb/6266d6cdaa777e00391e0d29\"))\n",
    "address = \"0x2c2c667a5794458219960a007b7ac2f670c35973\"\n",
    "\n",
    "code = w3.eth.get_code(Web3.to_checksum_address(address))"
   ],
   "metadata": {
    "collapsed": false
   }
  },
  {
   "cell_type": "code",
   "execution_count": null,
   "outputs": [],
   "source": [
    "code"
   ],
   "metadata": {
    "collapsed": false
   }
  },
  {
   "cell_type": "code",
   "execution_count": null,
   "outputs": [],
   "source": [
    "opcode = EvmBytecode(code).disassemble()\n",
    "opcodes = ''\n",
    "for j in opcode:\n",
    "    opcodes += f'{j.name} '\n",
    "    if j.operand:\n",
    "        opcodes += f'0x{j.operand} '\n",
    "opcodes = opcodes[:-1]"
   ],
   "metadata": {
    "collapsed": false
   }
  },
  {
   "cell_type": "code",
   "execution_count": null,
   "outputs": [],
   "source": [
    "opcodes"
   ],
   "metadata": {
    "collapsed": false
   }
  },
  {
   "cell_type": "code",
   "execution_count": null,
   "outputs": [],
   "source": [
    "tokenizer.tokenize(opcodes)"
   ],
   "metadata": {
    "collapsed": false
   }
  },
  {
   "cell_type": "code",
   "execution_count": null,
   "outputs": [],
   "source": [
    "inputs = tokenizer([opcodes], padding=\"max_length\", truncation=True)\n"
   ],
   "metadata": {
    "collapsed": false
   }
  },
  {
   "cell_type": "code",
   "execution_count": null,
   "outputs": [],
   "source": [
    "inputs"
   ],
   "metadata": {
    "collapsed": false
   }
  },
  {
   "cell_type": "code",
   "execution_count": null,
   "outputs": [],
   "source": [
    "item = {key: torch.tensor(val[0]) for key, val in inputs.items()}"
   ],
   "metadata": {
    "collapsed": false
   }
  },
  {
   "cell_type": "code",
   "execution_count": null,
   "outputs": [],
   "source": [],
   "metadata": {
    "collapsed": false
   }
  },
  {
   "cell_type": "code",
   "execution_count": null,
   "outputs": [],
   "source": [
    "input_ids = torch.tensor(item[\"input_ids\"]).to('cpu')\n",
    "model.to('cpu')\n",
    "attention_mask = torch.tensor(item[\"attention_mask\"]).to('cpu')\n",
    "print(attention_mask.unsqueeze(0))\n",
    "with torch.no_grad():\n",
    "    outputs = model(input_ids.unsqueeze(0), attention_mask.unsqueeze(0))\n",
    "y = np.argmax(outputs[0].to('cpu').numpy())"
   ],
   "metadata": {
    "collapsed": false
   }
  },
  {
   "cell_type": "code",
   "execution_count": null,
   "outputs": [],
   "source": [
    "outputs[0]"
   ],
   "metadata": {
    "collapsed": false
   }
  },
  {
   "cell_type": "code",
   "execution_count": null,
   "outputs": [],
   "source": [
    "y"
   ],
   "metadata": {
    "collapsed": false
   }
  },
  {
   "cell_type": "code",
   "execution_count": null,
   "outputs": [],
   "source": [],
   "metadata": {
    "collapsed": false
   }
  }
 ],
 "metadata": {
  "kernelspec": {
   "display_name": "Python 3",
   "language": "python",
   "name": "python3"
  },
  "language_info": {
   "codemirror_mode": {
    "name": "ipython",
    "version": 2
   },
   "file_extension": ".py",
   "mimetype": "text/x-python",
   "name": "python",
   "nbconvert_exporter": "python",
   "pygments_lexer": "ipython2",
   "version": "2.7.6"
  }
 },
 "nbformat": 4,
 "nbformat_minor": 0
}
