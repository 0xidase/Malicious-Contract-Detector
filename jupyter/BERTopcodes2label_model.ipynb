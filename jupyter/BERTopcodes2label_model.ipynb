{
 "cells": [
  {
   "cell_type": "code",
   "execution_count": null,
   "outputs": [],
   "source": [],
   "metadata": {
    "collapsed": false
   }
  },
  {
   "cell_type": "code",
   "execution_count": 1,
   "metadata": {
    "collapsed": true
   },
   "outputs": [],
   "source": [
    "import pandas as pd\n",
    "import torch as tc\n",
    "import numpy as np\n",
    "import multiprocessing\n",
    "import re\n",
    "from transformers import DistilBertTokenizerFast\n",
    "import torch\n",
    "from transformers import DistilBertForSequenceClassification\n",
    "from transformers import Trainer, TrainingArguments"
   ]
  },
  {
   "cell_type": "code",
   "execution_count": 2,
   "outputs": [],
   "source": [
    "benign_df = pd.read_csv('../data/normal_df.csv').sample(frac=1).reset_index(drop=True)[:5000]\n",
    "malicious_df = pd.read_csv('../data/malicious.csv')\n",
    "sc_df = pd.concat([benign_df, malicious_df]).reset_index(drop=True)"
   ],
   "metadata": {
    "collapsed": false
   }
  },
  {
   "cell_type": "code",
   "execution_count": 3,
   "outputs": [
    {
     "data": {
      "text/plain": "   Unnamed: 0.2  Unnamed: 0.1  Unnamed: 0  \\\n0          5710          5710        5710   \n1         29489         29489       29489   \n2          1243          1243        1243   \n3         12791         12791       12791   \n4          3123          3123        3123   \n\n                             contract_address  contract_name  \\\n0  0x5e539c591c3e26b3015905d049803e44f104bb9e  UniswapV2Pair   \n1  0x020171085bcd43b6fd36ad8c95ad61848b1211a2          yGift   \n2  0xd2a32c9a9f0eeb2514bce17a560b7d75457f6c8e  UniswapV2Pair   \n3  0x4d30a2cee33634114deb0dd11ef2c59cde9d2ef6           GDLK   \n4  0xb8cced52a76afadf607c595e9a12372fbf7f7f1a  UniswapV2Pair   \n\n  contract_etherscan_label         contract_tag  \\\n0                  uniswap     Uniswap V2: F1 4   \n1            yearn-finance        Yearn: yGifts   \n2                  uniswap    Uniswap V2: ELE 6   \n3                      NaN                  NaN   \n4                  uniswap  Uniswap V2: BIRDS 2   \n\n                             contract_creator  \\\n0  0xb73c668e268925d81d04574f2864a33677d9bded   \n1  0x7a1057e6e9093da9c1d4c1d049609b6889fc4c67   \n2  0x7ace65840eb1819e3746fab72298312a585223aa   \n3  0xdbbc5151052c54acadbc2daebf97199842d80c6c   \n4  0xc13c75c8858a8d6e4262e4d614611d298ce48606   \n\n                                contract_creation_tx  \\\n0  0x910efb75ed733c597a3d4cf92fb67e30a27ab7ce646b...   \n1  0xb6630b9c7539ff1daddfe31659567b4bd70d44804700...   \n2  0x042e7952a97cf112e8daf38b107cdbe120be31aa45a5...   \n3  0x0a80d2cf7cf2f5e9b06ab0a6edc8ffdcc60e46f9f639...   \n4  0x502d0719e9085d792e39b3e9d211f3f4d5a634f9a68f...   \n\n                                   creation_bytecode  \\\n0  0x60806040526001600c5534801561001557600080fd5b...   \n1  0x60806040523480156200001157600080fd5b50604080...   \n2  0x60806040526001600c5534801561001557600080fd5b...   \n3  0x600280546001600160a01b031990811661dead179091...   \n4  0x60806040526001600c5534801561001557600080fd5b...   \n\n                                  decompiled_opcodes  malicious  \\\n0  PUSH1 0x80 PUSH1 0x40 MSTORE PUSH1 0x01 PUSH1 ...          0   \n1  PUSH1 0x80 PUSH1 0x40 MSTORE CALLVALUE DUP1 IS...          0   \n2  PUSH1 0x80 PUSH1 0x40 MSTORE PUSH1 0x01 PUSH1 ...          0   \n3  PUSH1 0x02 DUP1 SLOAD PUSH1 0x01 PUSH1 0x01 PU...          0   \n4  PUSH1 0x80 PUSH1 0x40 MSTORE PUSH1 0x01 PUSH1 ...          0   \n\n  contract_creator_tag source notes contract_creator_etherscan_label  \\\n0                  NaN    NaN   NaN                              NaN   \n1                  NaN    NaN   NaN                              NaN   \n2                  NaN    NaN   NaN                              NaN   \n3                  NaN    NaN   NaN                              NaN   \n4                  NaN    NaN   NaN                              NaN   \n\n   __index_level_0__       _lua_timestamp  \\\n0              95663  2022-12-05T20:18:10   \n1               1145  2022-12-05T20:18:10   \n2              17595  2022-12-05T20:18:10   \n3              77423  2022-12-05T20:18:10   \n4              56052  2022-12-05T20:18:10   \n\n                              _lua_uuid  \\\n0  5e28926e-3d05-4a2b-83ff-b50b3f5b3b8b   \n1  a2e2ab0e-914d-4df4-8cc2-627ad2d19e5e   \n2  9f6b1353-536a-44e8-81d6-d41bb4066e56   \n3  b5f35428-886e-470d-868a-cb75e0f97af0   \n4  9f2bcad5-5cb0-498b-8309-2dcd78fe36d0   \n\n                                  bytecode_from_web3  \n0  0x608060405234801561001057600080fd5b5060043610...  \n1  0x608060405234801561001057600080fd5b5060043610...  \n2  0x608060405234801561001057600080fd5b5060043610...  \n3  0x6080604052600436106103dd5760003560e01c806377...  \n4  0x608060405234801561001057600080fd5b5060043610...  ",
      "text/html": "<div>\n<style scoped>\n    .dataframe tbody tr th:only-of-type {\n        vertical-align: middle;\n    }\n\n    .dataframe tbody tr th {\n        vertical-align: top;\n    }\n\n    .dataframe thead th {\n        text-align: right;\n    }\n</style>\n<table border=\"1\" class=\"dataframe\">\n  <thead>\n    <tr style=\"text-align: right;\">\n      <th></th>\n      <th>Unnamed: 0.2</th>\n      <th>Unnamed: 0.1</th>\n      <th>Unnamed: 0</th>\n      <th>contract_address</th>\n      <th>contract_name</th>\n      <th>contract_etherscan_label</th>\n      <th>contract_tag</th>\n      <th>contract_creator</th>\n      <th>contract_creation_tx</th>\n      <th>creation_bytecode</th>\n      <th>decompiled_opcodes</th>\n      <th>malicious</th>\n      <th>contract_creator_tag</th>\n      <th>source</th>\n      <th>notes</th>\n      <th>contract_creator_etherscan_label</th>\n      <th>__index_level_0__</th>\n      <th>_lua_timestamp</th>\n      <th>_lua_uuid</th>\n      <th>bytecode_from_web3</th>\n    </tr>\n  </thead>\n  <tbody>\n    <tr>\n      <th>0</th>\n      <td>5710</td>\n      <td>5710</td>\n      <td>5710</td>\n      <td>0x5e539c591c3e26b3015905d049803e44f104bb9e</td>\n      <td>UniswapV2Pair</td>\n      <td>uniswap</td>\n      <td>Uniswap V2: F1 4</td>\n      <td>0xb73c668e268925d81d04574f2864a33677d9bded</td>\n      <td>0x910efb75ed733c597a3d4cf92fb67e30a27ab7ce646b...</td>\n      <td>0x60806040526001600c5534801561001557600080fd5b...</td>\n      <td>PUSH1 0x80 PUSH1 0x40 MSTORE PUSH1 0x01 PUSH1 ...</td>\n      <td>0</td>\n      <td>NaN</td>\n      <td>NaN</td>\n      <td>NaN</td>\n      <td>NaN</td>\n      <td>95663</td>\n      <td>2022-12-05T20:18:10</td>\n      <td>5e28926e-3d05-4a2b-83ff-b50b3f5b3b8b</td>\n      <td>0x608060405234801561001057600080fd5b5060043610...</td>\n    </tr>\n    <tr>\n      <th>1</th>\n      <td>29489</td>\n      <td>29489</td>\n      <td>29489</td>\n      <td>0x020171085bcd43b6fd36ad8c95ad61848b1211a2</td>\n      <td>yGift</td>\n      <td>yearn-finance</td>\n      <td>Yearn: yGifts</td>\n      <td>0x7a1057e6e9093da9c1d4c1d049609b6889fc4c67</td>\n      <td>0xb6630b9c7539ff1daddfe31659567b4bd70d44804700...</td>\n      <td>0x60806040523480156200001157600080fd5b50604080...</td>\n      <td>PUSH1 0x80 PUSH1 0x40 MSTORE CALLVALUE DUP1 IS...</td>\n      <td>0</td>\n      <td>NaN</td>\n      <td>NaN</td>\n      <td>NaN</td>\n      <td>NaN</td>\n      <td>1145</td>\n      <td>2022-12-05T20:18:10</td>\n      <td>a2e2ab0e-914d-4df4-8cc2-627ad2d19e5e</td>\n      <td>0x608060405234801561001057600080fd5b5060043610...</td>\n    </tr>\n    <tr>\n      <th>2</th>\n      <td>1243</td>\n      <td>1243</td>\n      <td>1243</td>\n      <td>0xd2a32c9a9f0eeb2514bce17a560b7d75457f6c8e</td>\n      <td>UniswapV2Pair</td>\n      <td>uniswap</td>\n      <td>Uniswap V2: ELE 6</td>\n      <td>0x7ace65840eb1819e3746fab72298312a585223aa</td>\n      <td>0x042e7952a97cf112e8daf38b107cdbe120be31aa45a5...</td>\n      <td>0x60806040526001600c5534801561001557600080fd5b...</td>\n      <td>PUSH1 0x80 PUSH1 0x40 MSTORE PUSH1 0x01 PUSH1 ...</td>\n      <td>0</td>\n      <td>NaN</td>\n      <td>NaN</td>\n      <td>NaN</td>\n      <td>NaN</td>\n      <td>17595</td>\n      <td>2022-12-05T20:18:10</td>\n      <td>9f6b1353-536a-44e8-81d6-d41bb4066e56</td>\n      <td>0x608060405234801561001057600080fd5b5060043610...</td>\n    </tr>\n    <tr>\n      <th>3</th>\n      <td>12791</td>\n      <td>12791</td>\n      <td>12791</td>\n      <td>0x4d30a2cee33634114deb0dd11ef2c59cde9d2ef6</td>\n      <td>GDLK</td>\n      <td>NaN</td>\n      <td>NaN</td>\n      <td>0xdbbc5151052c54acadbc2daebf97199842d80c6c</td>\n      <td>0x0a80d2cf7cf2f5e9b06ab0a6edc8ffdcc60e46f9f639...</td>\n      <td>0x600280546001600160a01b031990811661dead179091...</td>\n      <td>PUSH1 0x02 DUP1 SLOAD PUSH1 0x01 PUSH1 0x01 PU...</td>\n      <td>0</td>\n      <td>NaN</td>\n      <td>NaN</td>\n      <td>NaN</td>\n      <td>NaN</td>\n      <td>77423</td>\n      <td>2022-12-05T20:18:10</td>\n      <td>b5f35428-886e-470d-868a-cb75e0f97af0</td>\n      <td>0x6080604052600436106103dd5760003560e01c806377...</td>\n    </tr>\n    <tr>\n      <th>4</th>\n      <td>3123</td>\n      <td>3123</td>\n      <td>3123</td>\n      <td>0xb8cced52a76afadf607c595e9a12372fbf7f7f1a</td>\n      <td>UniswapV2Pair</td>\n      <td>uniswap</td>\n      <td>Uniswap V2: BIRDS 2</td>\n      <td>0xc13c75c8858a8d6e4262e4d614611d298ce48606</td>\n      <td>0x502d0719e9085d792e39b3e9d211f3f4d5a634f9a68f...</td>\n      <td>0x60806040526001600c5534801561001557600080fd5b...</td>\n      <td>PUSH1 0x80 PUSH1 0x40 MSTORE PUSH1 0x01 PUSH1 ...</td>\n      <td>0</td>\n      <td>NaN</td>\n      <td>NaN</td>\n      <td>NaN</td>\n      <td>NaN</td>\n      <td>56052</td>\n      <td>2022-12-05T20:18:10</td>\n      <td>9f2bcad5-5cb0-498b-8309-2dcd78fe36d0</td>\n      <td>0x608060405234801561001057600080fd5b5060043610...</td>\n    </tr>\n  </tbody>\n</table>\n</div>"
     },
     "execution_count": 3,
     "metadata": {},
     "output_type": "execute_result"
    }
   ],
   "source": [
    "sc_df.head()"
   ],
   "metadata": {
    "collapsed": false
   }
  },
  {
   "cell_type": "code",
   "execution_count": 4,
   "outputs": [],
   "source": [
    "sc_df = sc_df[['decompiled_opcodes', 'malicious']].sample(frac=1).reset_index(drop=True)"
   ],
   "metadata": {
    "collapsed": false
   }
  },
  {
   "cell_type": "code",
   "execution_count": 5,
   "outputs": [],
   "source": [
    "# sc_df = sc_df.drop(sc_df[sc_df.decompiled_code == \"error\"].index)\n",
    "# sc_df = sc_df.drop(sc_df[sc_df.decompiled_code == \"error ;\"].index)\n",
    "# sc_df = sc_df.reset_index()\n",
    "# sc_df"
   ],
   "metadata": {
    "collapsed": false
   }
  },
  {
   "cell_type": "code",
   "execution_count": 6,
   "outputs": [],
   "source": [
    "tokenizer = DistilBertTokenizerFast.from_pretrained(\"distilbert-base-uncased\")\n"
   ],
   "metadata": {
    "collapsed": false
   }
  },
  {
   "cell_type": "code",
   "execution_count": 7,
   "outputs": [],
   "source": [
    "inputs = tokenizer(sc_df.decompiled_opcodes.tolist(), padding=\"max_length\", truncation=True)"
   ],
   "metadata": {
    "collapsed": false
   }
  },
  {
   "cell_type": "code",
   "execution_count": 8,
   "outputs": [],
   "source": [
    "class SmartContractsDataset(tc.utils.data.Dataset):\n",
    "    def __init__(self, encodings, labels):\n",
    "        # self.sc_df = sc_df\n",
    "        self.encodings = encodings\n",
    "        self.labels = labels\n",
    "\n",
    "    def __len__(self):\n",
    "        return len(self.labels)\n",
    "\n",
    "    def __getitem__(self, idx):\n",
    "        # code = self.sc_df.decompiled_code[idx]\n",
    "        # code = simple_web3_code_decompile(code)\n",
    "        # code = preprocess_code(code)\n",
    "        # code = self.get_contract_as_image(code).transpose(2, 0, 1)\n",
    "        # code = tc.tensor(code).type(tc.float32)\n",
    "        # code = tokenizer(code).items()\n",
    "\n",
    "        # mal = self.sc_df.malicious[idx]\n",
    "        # mal = tc.tensor(mal).type(tc.float32)\n",
    "        # return code, mal\n",
    "\n",
    "        # item = {key: torch.tensor(val[idx]) for key, val in code}\n",
    "        # item['label'] = mal\n",
    "        # return item\n",
    "        item = {key: torch.tensor(val[idx]) for key, val in self.encodings.items()}\n",
    "        item['label'] = torch.tensor(self.labels[idx])\n",
    "        return item\n"
   ],
   "metadata": {
    "collapsed": false
   }
  },
  {
   "cell_type": "code",
   "execution_count": 9,
   "outputs": [
    {
     "name": "stderr",
     "output_type": "stream",
     "text": [
      "Some weights of the model checkpoint at distilbert-base-uncased were not used when initializing DistilBertForSequenceClassification: ['vocab_projector.weight', 'vocab_projector.bias', 'vocab_layer_norm.weight', 'vocab_layer_norm.bias', 'vocab_transform.bias', 'vocab_transform.weight']\n",
      "- This IS expected if you are initializing DistilBertForSequenceClassification from the checkpoint of a model trained on another task or with another architecture (e.g. initializing a BertForSequenceClassification model from a BertForPreTraining model).\n",
      "- This IS NOT expected if you are initializing DistilBertForSequenceClassification from the checkpoint of a model that you expect to be exactly identical (initializing a BertForSequenceClassification model from a BertForSequenceClassification model).\n",
      "Some weights of DistilBertForSequenceClassification were not initialized from the model checkpoint at distilbert-base-uncased and are newly initialized: ['classifier.bias', 'classifier.weight', 'pre_classifier.bias', 'pre_classifier.weight']\n",
      "You should probably TRAIN this model on a down-stream task to be able to use it for predictions and inference.\n"
     ]
    }
   ],
   "source": [
    "model = DistilBertForSequenceClassification.from_pretrained(\"distilbert-base-uncased\")\n"
   ],
   "metadata": {
    "collapsed": false
   }
  },
  {
   "cell_type": "code",
   "execution_count": 10,
   "outputs": [],
   "source": [
    "device = \"mps\"\n"
   ],
   "metadata": {
    "collapsed": false
   }
  },
  {
   "cell_type": "code",
   "execution_count": 11,
   "outputs": [
    {
     "data": {
      "text/plain": "DistilBertForSequenceClassification(\n  (distilbert): DistilBertModel(\n    (embeddings): Embeddings(\n      (word_embeddings): Embedding(30522, 768, padding_idx=0)\n      (position_embeddings): Embedding(512, 768)\n      (LayerNorm): LayerNorm((768,), eps=1e-12, elementwise_affine=True)\n      (dropout): Dropout(p=0.1, inplace=False)\n    )\n    (transformer): Transformer(\n      (layer): ModuleList(\n        (0-5): 6 x TransformerBlock(\n          (attention): MultiHeadSelfAttention(\n            (dropout): Dropout(p=0.1, inplace=False)\n            (q_lin): Linear(in_features=768, out_features=768, bias=True)\n            (k_lin): Linear(in_features=768, out_features=768, bias=True)\n            (v_lin): Linear(in_features=768, out_features=768, bias=True)\n            (out_lin): Linear(in_features=768, out_features=768, bias=True)\n          )\n          (sa_layer_norm): LayerNorm((768,), eps=1e-12, elementwise_affine=True)\n          (ffn): FFN(\n            (dropout): Dropout(p=0.1, inplace=False)\n            (lin1): Linear(in_features=768, out_features=3072, bias=True)\n            (lin2): Linear(in_features=3072, out_features=768, bias=True)\n            (activation): GELUActivation()\n          )\n          (output_layer_norm): LayerNorm((768,), eps=1e-12, elementwise_affine=True)\n        )\n      )\n    )\n  )\n  (pre_classifier): Linear(in_features=768, out_features=768, bias=True)\n  (classifier): Linear(in_features=768, out_features=2, bias=True)\n  (dropout): Dropout(p=0.2, inplace=False)\n)"
     },
     "execution_count": 11,
     "metadata": {},
     "output_type": "execute_result"
    }
   ],
   "source": [
    "model.to(device)"
   ],
   "metadata": {
    "collapsed": false
   }
  },
  {
   "cell_type": "code",
   "execution_count": 12,
   "outputs": [],
   "source": [
    "scd = SmartContractsDataset(inputs, sc_df.malicious.tolist())\n",
    "train_size = int(0.8 * len(scd))\n",
    "val_size = int(0.1 * len(scd))\n",
    "test_size = len(scd) - train_size - val_size\n",
    "training_dataset, validation_dataset, testing_dataset = tc.utils.data.random_split(scd,\n",
    "                                                                                   [train_size, val_size, test_size])\n"
   ],
   "metadata": {
    "collapsed": false
   }
  },
  {
   "cell_type": "code",
   "execution_count": 13,
   "outputs": [],
   "source": [
    "training_args = TrainingArguments(\n",
    "    output_dir=\"./results\",\n",
    "    num_train_epochs=20,\n",
    "    use_mps_device=True,\n",
    "    per_device_train_batch_size=16,\n",
    "    per_device_eval_batch_size=64,\n",
    "    warmup_steps=500,\n",
    "    weight_decay=0.01,\n",
    "    logging_dir=\"./logs\",\n",
    "    logging_steps=10,\n",
    ")\n",
    "trainer = Trainer(\n",
    "    model=model,\n",
    "    args=training_args,\n",
    "    train_dataset=training_dataset,\n",
    "    eval_dataset=validation_dataset,\n",
    ")"
   ],
   "metadata": {
    "collapsed": false
   }
  },
  {
   "cell_type": "code",
   "execution_count": 14,
   "outputs": [
    {
     "name": "stderr",
     "output_type": "stream",
     "text": [
      "/Users/venglov/miniconda3/envs/torch_transformers/lib/python3.10/site-packages/transformers/optimization.py:391: FutureWarning: This implementation of AdamW is deprecated and will be removed in a future version. Use the PyTorch implementation torch.optim.AdamW instead, or set `no_deprecation_warning=True` to disable this warning\n",
      "  warnings.warn(\n"
     ]
    },
    {
     "data": {
      "text/plain": "<IPython.core.display.HTML object>",
      "text/html": "\n    <div>\n      \n      <progress value='2' max='5160' style='width:300px; height:20px; vertical-align: middle;'></progress>\n      [   2/5160 : < :, Epoch 0.00/20]\n    </div>\n    <table border=\"1\" class=\"dataframe\">\n  <thead>\n <tr style=\"text-align: left;\">\n      <th>Step</th>\n      <th>Training Loss</th>\n    </tr>\n  </thead>\n  <tbody>\n  </tbody>\n</table><p>"
     },
     "metadata": {},
     "output_type": "display_data"
    },
    {
     "data": {
      "text/plain": "TrainOutput(global_step=5160, training_loss=0.046868195784613924, metrics={'train_runtime': 6623.257, 'train_samples_per_second': 12.438, 'train_steps_per_second': 0.779, 'total_flos': 1.091266430128128e+16, 'train_loss': 0.046868195784613924, 'epoch': 20.0})"
     },
     "execution_count": 14,
     "metadata": {},
     "output_type": "execute_result"
    }
   ],
   "source": [
    "trainer.train()"
   ],
   "metadata": {
    "collapsed": false
   }
  },
  {
   "cell_type": "code",
   "execution_count": 17,
   "outputs": [
    {
     "name": "stderr",
     "output_type": "stream",
     "text": [
      "/var/folders/tf/97gp74_92k30dq5fwdw7j5bm0000gn/T/ipykernel_48409/1724829149.py:5: UserWarning: To copy construct from a tensor, it is recommended to use sourceTensor.clone().detach() or sourceTensor.clone().detach().requires_grad_(True), rather than torch.tensor(sourceTensor).\n",
      "  input_ids = torch.tensor(code[\"input_ids\"]).to(device)\n",
      "/var/folders/tf/97gp74_92k30dq5fwdw7j5bm0000gn/T/ipykernel_48409/1724829149.py:6: UserWarning: To copy construct from a tensor, it is recommended to use sourceTensor.clone().detach() or sourceTensor.clone().detach().requires_grad_(True), rather than torch.tensor(sourceTensor).\n",
      "  attention_mask = torch.tensor(code[\"attention_mask\"]).to(device)\n"
     ]
    }
   ],
   "source": [
    "results = []\n",
    "for i in range(len(testing_dataset)):\n",
    "    code = testing_dataset[i]\n",
    "    label = code['label']\n",
    "    input_ids = torch.tensor(code[\"input_ids\"]).to(device)\n",
    "    attention_mask = torch.tensor(code[\"attention_mask\"]).to(device)\n",
    "    with torch.no_grad():\n",
    "        outputs = model(input_ids.unsqueeze(0), attention_mask.unsqueeze(0))\n",
    "    y = np.argmax(outputs[0].to('cpu').numpy())\n",
    "    results.append((label, y))"
   ],
   "metadata": {
    "collapsed": false
   }
  },
  {
   "cell_type": "code",
   "execution_count": 18,
   "outputs": [
    {
     "name": "stdout",
     "output_type": "stream",
     "text": [
      "True Positive: 13\n",
      "True Negative: 497\n",
      "False Positive: 4\n",
      "False Negative: 2\n",
      "Accuracy: 0.9883720930232558\n",
      "Precision: 0.7647058823529411\n",
      "Recall: 0.8666666666666667\n",
      "F1-score 0.8125\n",
      "Specificity: 0.9920159680638723\n"
     ]
    }
   ],
   "source": [
    "true_positive = 0\n",
    "false_positive = 0\n",
    "true_negative = 0\n",
    "false_negative = 0\n",
    "\n",
    "# Generates count of inference quadrants\n",
    "for real, predicted in results:\n",
    "    if real == 1 and predicted == 1:\n",
    "        true_positive += 1\n",
    "    elif real == 0 and predicted == 0:\n",
    "        true_negative += 1\n",
    "    elif real == 1 and predicted == 0:\n",
    "        false_negative += 1\n",
    "    elif real == 0 and predicted == 1:\n",
    "        false_positive += 1\n",
    "\n",
    "# print(l2)\n",
    "print(\"True Positive:\", true_positive)\n",
    "print(\"True Negative:\", true_negative)\n",
    "print(\"False Positive:\", false_positive)\n",
    "print(\"False Negative:\", false_negative)\n",
    "\n",
    "# Machine Learning statistics and visuals. https://towardsdatascience.com/accuracy-recall-precision-f-score-specificity-which-to-optimize-on-867d3f11124\n",
    "print(\"Accuracy:\", (true_positive + true_negative)/(true_positive + true_negative + false_positive + false_negative))\n",
    "precision = true_positive/(true_positive + false_positive)\n",
    "print(\"Precision:\", precision)\n",
    "recall = true_positive/(true_positive + false_negative)\n",
    "print(\"Recall:\", recall)\n",
    "print(\"F1-score\", 2*(recall * precision)/(recall + precision))\n",
    "print(\"Specificity:\", true_negative/(true_negative + false_positive))"
   ],
   "metadata": {
    "collapsed": false
   }
  },
  {
   "cell_type": "code",
   "execution_count": 17,
   "outputs": [
    {
     "data": {
      "text/plain": "[(tensor(0), 0),\n (tensor(1), 1),\n (tensor(0), 0),\n (tensor(1), 1),\n (tensor(1), 1),\n (tensor(1), 1),\n (tensor(1), 1),\n (tensor(1), 1),\n (tensor(0), 0),\n (tensor(1), 1),\n (tensor(1), 1),\n (tensor(1), 1),\n (tensor(0), 0),\n (tensor(1), 1),\n (tensor(1), 1),\n (tensor(1), 1),\n (tensor(1), 1),\n (tensor(1), 1),\n (tensor(0), 0),\n (tensor(0), 0),\n (tensor(1), 1)]"
     },
     "execution_count": 17,
     "metadata": {},
     "output_type": "execute_result"
    }
   ],
   "source": [],
   "metadata": {
    "collapsed": false
   }
  },
  {
   "cell_type": "code",
   "execution_count": null,
   "outputs": [],
   "source": [
    "from matplotlib import pyplot as plt\n",
    "from sklearn.metrics import confusion_matrix\n",
    "import seaborn as sn\n",
    "real = []\n",
    "predicted = []\n",
    "for r, p in results:\n",
    "    real.append(r)\n",
    "    predicted.append(p)\n",
    "cf_matrix = confusion_matrix(real, predicted)\n",
    "df_cm = pd.DataFrame(cf_matrix, index=[0, 1],\n",
    "                     columns=[0, 1])\n",
    "plt.figure(figsize=(12, 7))\n",
    "sn.heatmap(df_cm, annot=True)"
   ],
   "metadata": {
    "collapsed": false
   }
  },
  {
   "cell_type": "code",
   "execution_count": 20,
   "outputs": [],
   "source": [
    "torch.save(model.state_dict(), '../data/opcodes_model_weights.pth')"
   ],
   "metadata": {
    "collapsed": false
   }
  },
  {
   "cell_type": "code",
   "execution_count": null,
   "outputs": [],
   "source": [
    "model.load_state_dict(torch.load(\"/home/venglov/Documents/model_weights.pth\"))"
   ],
   "metadata": {
    "collapsed": false
   }
  },
  {
   "cell_type": "code",
   "execution_count": null,
   "outputs": [],
   "source": [
    "address = \"0x792e8f3727cad6e00c58d478798f0907c4cec340\"\n"
   ],
   "metadata": {
    "collapsed": false
   }
  },
  {
   "cell_type": "code",
   "execution_count": null,
   "outputs": [],
   "source": [
    "model.eval()\n"
   ],
   "metadata": {
    "collapsed": false
   }
  },
  {
   "cell_type": "code",
   "execution_count": null,
   "outputs": [],
   "source": [
    "model.to(device)"
   ],
   "metadata": {
    "collapsed": false
   }
  },
  {
   "cell_type": "code",
   "execution_count": null,
   "outputs": [],
   "source": [
    "tokenizer = DistilBertTokenizerFast.from_pretrained(\"distilbert-base-uncased\")\n"
   ],
   "metadata": {
    "collapsed": false
   }
  },
  {
   "cell_type": "code",
   "execution_count": null,
   "outputs": [],
   "source": [
    "web3 = Web3(Web3.HTTPProvider(\"https://eth-mainnet.gateway.pokt.network/v1/lb/6266d6cdaa777e00391e0d29\"))\n",
    "code = web3.eth.getCode(Web3.toChecksumAddress(address))"
   ],
   "metadata": {
    "collapsed": false
   }
  },
  {
   "cell_type": "code",
   "execution_count": null,
   "outputs": [],
   "source": [
    "code = \"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\""
   ],
   "metadata": {
    "collapsed": false
   }
  },
  {
   "cell_type": "code",
   "execution_count": null,
   "outputs": [],
   "source": [
    "decompiled = preprocess_code(simple_web3_code_decompile(code))"
   ],
   "metadata": {
    "collapsed": false
   }
  },
  {
   "cell_type": "code",
   "execution_count": null,
   "outputs": [],
   "source": [
    "\n",
    "decompiled"
   ],
   "metadata": {
    "collapsed": false
   }
  },
  {
   "cell_type": "code",
   "execution_count": null,
   "outputs": [],
   "source": [
    "inputs = tokenizer([decompiled], padding=\"max_length\", truncation=True)\n"
   ],
   "metadata": {
    "collapsed": false
   }
  },
  {
   "cell_type": "code",
   "execution_count": null,
   "outputs": [],
   "source": [
    "item = {key: torch.tensor(val[0]) for key, val in inputs.items()}"
   ],
   "metadata": {
    "collapsed": false
   }
  },
  {
   "cell_type": "code",
   "execution_count": null,
   "outputs": [],
   "source": [
    "input_ids = torch.tensor(item[\"input_ids\"]).to(device)\n",
    "attention_mask = torch.tensor(item[\"attention_mask\"]).to(device)\n",
    "with torch.no_grad():\n",
    "    outputs = model(input_ids.unsqueeze(0), attention_mask.unsqueeze(0))\n",
    "y = np.argmax(outputs[0].to('cpu').numpy())"
   ],
   "metadata": {
    "collapsed": false
   }
  },
  {
   "cell_type": "code",
   "execution_count": null,
   "outputs": [],
   "source": [
    "outputs[0]"
   ],
   "metadata": {
    "collapsed": false
   }
  },
  {
   "cell_type": "code",
   "execution_count": null,
   "outputs": [],
   "source": [
    "y"
   ],
   "metadata": {
    "collapsed": false
   }
  },
  {
   "cell_type": "code",
   "execution_count": null,
   "outputs": [],
   "source": [],
   "metadata": {
    "collapsed": false
   }
  }
 ],
 "metadata": {
  "kernelspec": {
   "display_name": "Python 3",
   "language": "python",
   "name": "python3"
  },
  "language_info": {
   "codemirror_mode": {
    "name": "ipython",
    "version": 2
   },
   "file_extension": ".py",
   "mimetype": "text/x-python",
   "name": "python",
   "nbconvert_exporter": "python",
   "pygments_lexer": "ipython2",
   "version": "2.7.6"
  }
 },
 "nbformat": 4,
 "nbformat_minor": 0
}
