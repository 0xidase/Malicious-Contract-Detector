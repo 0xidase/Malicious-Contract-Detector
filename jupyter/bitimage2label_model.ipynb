{
 "cells": [
  {
   "cell_type": "code",
   "execution_count": 1,
   "metadata": {
    "collapsed": true
   },
   "outputs": [],
   "source": [
    "import pandas as pd\n",
    "import torch as tc\n"
   ]
  },
  {
   "cell_type": "code",
   "execution_count": 2,
   "outputs": [
    {
     "data": {
      "text/plain": "      Unnamed: 0                            contract_address contract_name  \\\n0              0  0xa2da08093a083c78c21aeca77d6fc89f3d545aed           NaN   \n1              1  0xeecad3f908c7351f6201da8f558b588429abbc24           NaN   \n2              2  0x80fec3e39a513eb61743a8546244403de3bea8ce           NaN   \n3              3  0xbdbb5945f252bc3466a319cdcc3ee8056bf2e569           NaN   \n4              4  0x56073b375e563667bb9b11c76793adb197f6544a           NaN   \n...          ...                                         ...           ...   \n4995        4995  0x31d4eb09a216e181ec8a43ce79226a487d6f0ba9          USDM   \n4996        4996  0xbf183e0d2f06872e10f5dbec745999adfcb5f000         EVMOS   \n4997        4997  0x5ee0234b7fb2d5f3dfba01c8d6adc125f67a04f4       Durianz   \n4998        4998  0x80f4d4b61f4ae3b1bc2724ae582516fdded5cabe      Firemoon   \n4999        4999  0xf2f8984a5e5ff35c8b52a40b642e1ecfaecf3ba7   bBetaMaster   \n\n     contract_etherscan_label           contract_tag  \\\n0                         NaN                    NaN   \n1                         NaN                    NaN   \n2                         NaN                    NaN   \n3                         NaN                    NaN   \n4                         NaN                    NaN   \n...                       ...                    ...   \n4995           token-contract  Mochi Inu: USDM Token   \n4996                      NaN                    NaN   \n4997                      NaN                    NaN   \n4998           token-contract   Firemoon: FIRM Token   \n4999                      NaN                    NaN   \n\n                                contract_creator  \\\n0     0xbac8a476b95ec741e56561a66231f92bc88bb3a8   \n1     0xbf293d5138a2a1ba407b43672643434c43827179   \n2     0x941a9e3b91e1cc015702b897c512d265fae88a9c   \n3     0xa0c7bd318d69424603cbf91e9969870f21b8ab4c   \n4     0x627a22ff70cb84e74c9c70e2d5b0b75af5a1dcb9   \n...                                          ...   \n4995  0x067fa954b94134a67a8a4772aa24cfea3d20c033   \n4996  0xf0bf6dd9906a391842482cc3937ae412eaf0efcf   \n4997  0x8696ccd9d89b3c1edd7c3fc9259cfe7d57e766b8   \n4998  0xf342f0d32bd97fc366ff8913b59c4329265937b3   \n4999  0x557dee4f22c04e7644838682625592b03c2c038d   \n\n                                   contract_creation_tx  \\\n0     0xe72d4e7ba9b5af0cf2a8cfb1e30fd9f388df0ab3da79...   \n1     0xa10ecd2689857046f4adc7c61fc62ed691a0d16cfc03...   \n2     0xcc7899df9f7d418d0dcedd90d526dbeed2d33096e9c0...   \n3     0x3d6c7922d402b89a8970e943ac3d6d39f2fb6a9114fb...   \n4     0xec06fee586aea310b31600f3c53f9e4a6eef9aa83118...   \n...                                                 ...   \n4995  0xa9052accd38ac1a52f00fe54cad1ec0ea85af88a6683...   \n4996  0xe3e30c531dc8574b79f5541d7a27692a0bf626293841...   \n4997  0x0815bd1a395bfc4da9e18f792ea998a0666b7be883ef...   \n4998  0x83f6f03d46fdebe539575f3092358426b0684e5e34a0...   \n4999  0x2a4fb7cdb2a82148e27135a7d4d72385dcba3661e4a4...   \n\n                                      creation_bytecode  \\\n0     0x608060405234801561001057600080fd5b5061037780...   \n1     0x608060405260008090505b600a811015610048576040...   \n2     0x608060405234801561001057600080fd5b5061179780...   \n3     0x608060405234801561001057600080fd5b5060008054...   \n4     0x608060405234801561001057600080fd5b50611ccf80...   \n...                                                 ...   \n4995  0x60a06040523480156200001157600080fd5b50604051...   \n4996  0x60806040526000196008556000600a55600b80546001...   \n4997  0x60a06040819052600060808190526200001b91600891...   \n4998  0x60806040523480156200001157600080fd5b50604051...   \n4999  0x61022060405260de608090815260d360a05260c860c0...   \n\n                                     decompiled_opcodes  malicious  \\\n0     PUSH1 0x80 PUSH1 0x40 MSTORE CALLVALUE DUP1 IS...          1   \n1     PUSH1 0x80 PUSH1 0x40 MSTORE PUSH1 0x00 DUP1 S...          1   \n2     PUSH1 0x80 PUSH1 0x40 MSTORE CALLVALUE DUP1 IS...          1   \n3     PUSH1 0x80 PUSH1 0x40 MSTORE CALLVALUE DUP1 IS...          1   \n4     PUSH1 0x80 PUSH1 0x40 MSTORE CALLVALUE DUP1 IS...          1   \n...                                                 ...        ...   \n4995  PUSH1 0xa0 PUSH1 0x40 MSTORE CALLVALUE DUP1 IS...          0   \n4996  PUSH1 0x80 PUSH1 0x40 MSTORE PUSH1 0x00 NOT PU...          0   \n4997  PUSH1 0xa0 PUSH1 0x40 DUP2 SWAP1 MSTORE PUSH1 ...          0   \n4998  PUSH1 0x80 PUSH1 0x40 MSTORE CALLVALUE DUP1 IS...          0   \n4999  PUSH2 0x0220 PUSH1 0x40 MSTORE PUSH1 0xde PUSH...          0   \n\n          contract_creator_tag                              source  \\\n0                          NaN  https://github.com/banteg/evil-jar   \n1     Nomad Bridge Exploiter 2         Luabase ethereum.tags table   \n2          ChainSwap Exploiter         Luabase ethereum.tags table   \n3             Audius Exploiter         Luabase ethereum.tags table   \n4       OmniProtocol Exploiter         Luabase ethereum.tags table   \n...                        ...                                 ...   \n4995                       NaN                                 NaN   \n4996                       NaN                                 NaN   \n4997                       NaN                                 NaN   \n4998                       NaN                                 NaN   \n4999                       NaN                                 NaN   \n\n                    notes contract_creator_etherscan_label  __index_level_0__  \\\n0     Pickle Finance Hack                              NaN                741   \n1                     NaN                          exploit                113   \n2                     NaN                          exploit                 80   \n3                     NaN                            heist                 84   \n4                     NaN                          exploit                 43   \n...                   ...                              ...                ...   \n4995                  NaN                              NaN             107163   \n4996                  NaN                              NaN              59540   \n4997                  NaN                              NaN              95981   \n4998                  NaN                              NaN             105333   \n4999                  NaN                              NaN             124298   \n\n           _lua_timestamp                             _lua_uuid  \n0     2022-12-05T20:18:10  73251ceb-df3d-460d-80f8-46e8a3adb942  \n1     2022-12-05T20:18:10  6f880f79-5a0f-415b-813d-91e7ff1f449c  \n2     2022-12-05T20:18:10  bed87528-c408-48bf-82c1-54d1c95e920b  \n3     2022-12-05T20:18:10  5be93b2b-d133-4446-82fc-d8b73a65df17  \n4     2022-12-05T20:18:10  638ce056-c2c0-4379-8174-236be0329b62  \n...                   ...                                   ...  \n4995  2022-12-05T20:18:10  b2c4093c-7f73-4184-808d-32add7eac010  \n4996  2022-12-05T20:18:10  4a155f56-80c9-4770-8132-7fbee52c80e0  \n4997  2022-12-05T20:18:10  e27f67ab-98bf-4509-8242-3ad825bc5ea1  \n4998  2022-12-05T20:18:10  ac51862d-1337-436b-8111-896d9741a3fb  \n4999  2022-12-05T20:18:10  7b8eb881-cb08-4995-8261-c8c5c5a92be5  \n\n[5000 rows x 17 columns]",
      "text/html": "<div>\n<style scoped>\n    .dataframe tbody tr th:only-of-type {\n        vertical-align: middle;\n    }\n\n    .dataframe tbody tr th {\n        vertical-align: top;\n    }\n\n    .dataframe thead th {\n        text-align: right;\n    }\n</style>\n<table border=\"1\" class=\"dataframe\">\n  <thead>\n    <tr style=\"text-align: right;\">\n      <th></th>\n      <th>Unnamed: 0</th>\n      <th>contract_address</th>\n      <th>contract_name</th>\n      <th>contract_etherscan_label</th>\n      <th>contract_tag</th>\n      <th>contract_creator</th>\n      <th>contract_creation_tx</th>\n      <th>creation_bytecode</th>\n      <th>decompiled_opcodes</th>\n      <th>malicious</th>\n      <th>contract_creator_tag</th>\n      <th>source</th>\n      <th>notes</th>\n      <th>contract_creator_etherscan_label</th>\n      <th>__index_level_0__</th>\n      <th>_lua_timestamp</th>\n      <th>_lua_uuid</th>\n    </tr>\n  </thead>\n  <tbody>\n    <tr>\n      <th>0</th>\n      <td>0</td>\n      <td>0xa2da08093a083c78c21aeca77d6fc89f3d545aed</td>\n      <td>NaN</td>\n      <td>NaN</td>\n      <td>NaN</td>\n      <td>0xbac8a476b95ec741e56561a66231f92bc88bb3a8</td>\n      <td>0xe72d4e7ba9b5af0cf2a8cfb1e30fd9f388df0ab3da79...</td>\n      <td>0x608060405234801561001057600080fd5b5061037780...</td>\n      <td>PUSH1 0x80 PUSH1 0x40 MSTORE CALLVALUE DUP1 IS...</td>\n      <td>1</td>\n      <td>NaN</td>\n      <td>https://github.com/banteg/evil-jar</td>\n      <td>Pickle Finance Hack</td>\n      <td>NaN</td>\n      <td>741</td>\n      <td>2022-12-05T20:18:10</td>\n      <td>73251ceb-df3d-460d-80f8-46e8a3adb942</td>\n    </tr>\n    <tr>\n      <th>1</th>\n      <td>1</td>\n      <td>0xeecad3f908c7351f6201da8f558b588429abbc24</td>\n      <td>NaN</td>\n      <td>NaN</td>\n      <td>NaN</td>\n      <td>0xbf293d5138a2a1ba407b43672643434c43827179</td>\n      <td>0xa10ecd2689857046f4adc7c61fc62ed691a0d16cfc03...</td>\n      <td>0x608060405260008090505b600a811015610048576040...</td>\n      <td>PUSH1 0x80 PUSH1 0x40 MSTORE PUSH1 0x00 DUP1 S...</td>\n      <td>1</td>\n      <td>Nomad Bridge Exploiter 2</td>\n      <td>Luabase ethereum.tags table</td>\n      <td>NaN</td>\n      <td>exploit</td>\n      <td>113</td>\n      <td>2022-12-05T20:18:10</td>\n      <td>6f880f79-5a0f-415b-813d-91e7ff1f449c</td>\n    </tr>\n    <tr>\n      <th>2</th>\n      <td>2</td>\n      <td>0x80fec3e39a513eb61743a8546244403de3bea8ce</td>\n      <td>NaN</td>\n      <td>NaN</td>\n      <td>NaN</td>\n      <td>0x941a9e3b91e1cc015702b897c512d265fae88a9c</td>\n      <td>0xcc7899df9f7d418d0dcedd90d526dbeed2d33096e9c0...</td>\n      <td>0x608060405234801561001057600080fd5b5061179780...</td>\n      <td>PUSH1 0x80 PUSH1 0x40 MSTORE CALLVALUE DUP1 IS...</td>\n      <td>1</td>\n      <td>ChainSwap Exploiter</td>\n      <td>Luabase ethereum.tags table</td>\n      <td>NaN</td>\n      <td>exploit</td>\n      <td>80</td>\n      <td>2022-12-05T20:18:10</td>\n      <td>bed87528-c408-48bf-82c1-54d1c95e920b</td>\n    </tr>\n    <tr>\n      <th>3</th>\n      <td>3</td>\n      <td>0xbdbb5945f252bc3466a319cdcc3ee8056bf2e569</td>\n      <td>NaN</td>\n      <td>NaN</td>\n      <td>NaN</td>\n      <td>0xa0c7bd318d69424603cbf91e9969870f21b8ab4c</td>\n      <td>0x3d6c7922d402b89a8970e943ac3d6d39f2fb6a9114fb...</td>\n      <td>0x608060405234801561001057600080fd5b5060008054...</td>\n      <td>PUSH1 0x80 PUSH1 0x40 MSTORE CALLVALUE DUP1 IS...</td>\n      <td>1</td>\n      <td>Audius Exploiter</td>\n      <td>Luabase ethereum.tags table</td>\n      <td>NaN</td>\n      <td>heist</td>\n      <td>84</td>\n      <td>2022-12-05T20:18:10</td>\n      <td>5be93b2b-d133-4446-82fc-d8b73a65df17</td>\n    </tr>\n    <tr>\n      <th>4</th>\n      <td>4</td>\n      <td>0x56073b375e563667bb9b11c76793adb197f6544a</td>\n      <td>NaN</td>\n      <td>NaN</td>\n      <td>NaN</td>\n      <td>0x627a22ff70cb84e74c9c70e2d5b0b75af5a1dcb9</td>\n      <td>0xec06fee586aea310b31600f3c53f9e4a6eef9aa83118...</td>\n      <td>0x608060405234801561001057600080fd5b50611ccf80...</td>\n      <td>PUSH1 0x80 PUSH1 0x40 MSTORE CALLVALUE DUP1 IS...</td>\n      <td>1</td>\n      <td>OmniProtocol Exploiter</td>\n      <td>Luabase ethereum.tags table</td>\n      <td>NaN</td>\n      <td>exploit</td>\n      <td>43</td>\n      <td>2022-12-05T20:18:10</td>\n      <td>638ce056-c2c0-4379-8174-236be0329b62</td>\n    </tr>\n    <tr>\n      <th>...</th>\n      <td>...</td>\n      <td>...</td>\n      <td>...</td>\n      <td>...</td>\n      <td>...</td>\n      <td>...</td>\n      <td>...</td>\n      <td>...</td>\n      <td>...</td>\n      <td>...</td>\n      <td>...</td>\n      <td>...</td>\n      <td>...</td>\n      <td>...</td>\n      <td>...</td>\n      <td>...</td>\n      <td>...</td>\n    </tr>\n    <tr>\n      <th>4995</th>\n      <td>4995</td>\n      <td>0x31d4eb09a216e181ec8a43ce79226a487d6f0ba9</td>\n      <td>USDM</td>\n      <td>token-contract</td>\n      <td>Mochi Inu: USDM Token</td>\n      <td>0x067fa954b94134a67a8a4772aa24cfea3d20c033</td>\n      <td>0xa9052accd38ac1a52f00fe54cad1ec0ea85af88a6683...</td>\n      <td>0x60a06040523480156200001157600080fd5b50604051...</td>\n      <td>PUSH1 0xa0 PUSH1 0x40 MSTORE CALLVALUE DUP1 IS...</td>\n      <td>0</td>\n      <td>NaN</td>\n      <td>NaN</td>\n      <td>NaN</td>\n      <td>NaN</td>\n      <td>107163</td>\n      <td>2022-12-05T20:18:10</td>\n      <td>b2c4093c-7f73-4184-808d-32add7eac010</td>\n    </tr>\n    <tr>\n      <th>4996</th>\n      <td>4996</td>\n      <td>0xbf183e0d2f06872e10f5dbec745999adfcb5f000</td>\n      <td>EVMOS</td>\n      <td>NaN</td>\n      <td>NaN</td>\n      <td>0xf0bf6dd9906a391842482cc3937ae412eaf0efcf</td>\n      <td>0xe3e30c531dc8574b79f5541d7a27692a0bf626293841...</td>\n      <td>0x60806040526000196008556000600a55600b80546001...</td>\n      <td>PUSH1 0x80 PUSH1 0x40 MSTORE PUSH1 0x00 NOT PU...</td>\n      <td>0</td>\n      <td>NaN</td>\n      <td>NaN</td>\n      <td>NaN</td>\n      <td>NaN</td>\n      <td>59540</td>\n      <td>2022-12-05T20:18:10</td>\n      <td>4a155f56-80c9-4770-8132-7fbee52c80e0</td>\n    </tr>\n    <tr>\n      <th>4997</th>\n      <td>4997</td>\n      <td>0x5ee0234b7fb2d5f3dfba01c8d6adc125f67a04f4</td>\n      <td>Durianz</td>\n      <td>NaN</td>\n      <td>NaN</td>\n      <td>0x8696ccd9d89b3c1edd7c3fc9259cfe7d57e766b8</td>\n      <td>0x0815bd1a395bfc4da9e18f792ea998a0666b7be883ef...</td>\n      <td>0x60a06040819052600060808190526200001b91600891...</td>\n      <td>PUSH1 0xa0 PUSH1 0x40 DUP2 SWAP1 MSTORE PUSH1 ...</td>\n      <td>0</td>\n      <td>NaN</td>\n      <td>NaN</td>\n      <td>NaN</td>\n      <td>NaN</td>\n      <td>95981</td>\n      <td>2022-12-05T20:18:10</td>\n      <td>e27f67ab-98bf-4509-8242-3ad825bc5ea1</td>\n    </tr>\n    <tr>\n      <th>4998</th>\n      <td>4998</td>\n      <td>0x80f4d4b61f4ae3b1bc2724ae582516fdded5cabe</td>\n      <td>Firemoon</td>\n      <td>token-contract</td>\n      <td>Firemoon: FIRM Token</td>\n      <td>0xf342f0d32bd97fc366ff8913b59c4329265937b3</td>\n      <td>0x83f6f03d46fdebe539575f3092358426b0684e5e34a0...</td>\n      <td>0x60806040523480156200001157600080fd5b50604051...</td>\n      <td>PUSH1 0x80 PUSH1 0x40 MSTORE CALLVALUE DUP1 IS...</td>\n      <td>0</td>\n      <td>NaN</td>\n      <td>NaN</td>\n      <td>NaN</td>\n      <td>NaN</td>\n      <td>105333</td>\n      <td>2022-12-05T20:18:10</td>\n      <td>ac51862d-1337-436b-8111-896d9741a3fb</td>\n    </tr>\n    <tr>\n      <th>4999</th>\n      <td>4999</td>\n      <td>0xf2f8984a5e5ff35c8b52a40b642e1ecfaecf3ba7</td>\n      <td>bBetaMaster</td>\n      <td>NaN</td>\n      <td>NaN</td>\n      <td>0x557dee4f22c04e7644838682625592b03c2c038d</td>\n      <td>0x2a4fb7cdb2a82148e27135a7d4d72385dcba3661e4a4...</td>\n      <td>0x61022060405260de608090815260d360a05260c860c0...</td>\n      <td>PUSH2 0x0220 PUSH1 0x40 MSTORE PUSH1 0xde PUSH...</td>\n      <td>0</td>\n      <td>NaN</td>\n      <td>NaN</td>\n      <td>NaN</td>\n      <td>NaN</td>\n      <td>124298</td>\n      <td>2022-12-05T20:18:10</td>\n      <td>7b8eb881-cb08-4995-8261-c8c5c5a92be5</td>\n    </tr>\n  </tbody>\n</table>\n<p>5000 rows × 17 columns</p>\n</div>"
     },
     "execution_count": 2,
     "metadata": {},
     "output_type": "execute_result"
    }
   ],
   "source": [
    "sc_df = pd.read_csv('/home/venglov/Documents/scdf.csv')\n",
    "sc_df"
   ],
   "metadata": {
    "collapsed": false
   }
  },
  {
   "cell_type": "code",
   "execution_count": 3,
   "outputs": [],
   "source": [
    "x = sc_df.creation_bytecode[0]"
   ],
   "metadata": {
    "collapsed": false
   }
  },
  {
   "cell_type": "code",
   "execution_count": 4,
   "outputs": [
    {
     "data": {
      "text/plain": "'0x608060405234801561001057600080fd5b50610377806100206000396000f3fe608060405234801561001057600080fd5b50600436106100f55760003560e01c8063a75ac60811610097578063dd62ed3e11610066578063dd62ed3e14610190578063de5f626814610188578063ec1ebd7a146101a3578063fc0c546a146101ab576100f5565b8063a75ac60814610188578063a9059cbb146100fa578063b6b55f251461014b578063d389800f14610188576100f5565b80632e1a7d4d116100d35780632e1a7d4d1461014b578063313ce5671461016057806370a0823114610175578063853828b614610188576100f5565b8063095ea7b3146100fa57806318160ddd1461012357806323b872dd14610138575b600080fd5b61010d6101083660046102b4565b6101c0565b60405161011a919061030a565b60405180910390f35b61012b6101c9565b60405161011a9190610315565b61010d610146366004610274565b6101ce565b61015e6101593660046102de565b6101d7565b005b6101686101c9565b60405161011a919061031e565b61012b61018336600461021e565b6101da565b61015e6101e0565b61012b61019e366004610240565b6101e2565b61012b6101ea565b6101b36101ef565b60405161011a91906102f6565b60015b92915050565b600090565b60019392505050565b50565b50600090565b565b600092915050565b600190565b736b175474e89094c44da98b954eedeac495271d0f90565b80356001600160a01b03811681146101c357600080fd5b60006020828403121561022f578081fd5b6102398383610207565b9392505050565b60008060408385031215610252578081fd5b61025c8484610207565b915061026b8460208501610207565b90509250929050565b600080600060608486031215610288578081fd5b83356102938161032c565b925060208401356102a38161032c565b929592945050506040919091013590565b600080604083850312156102c6578182fd5b6102d08484610207565b946020939093013593505050565b6000602082840312156102ef578081fd5b5035919050565b6001600160a01b0391909116815260200190565b901515815260200190565b90815260200190565b60ff91909116815260200190565b6001600160a01b03811681146101d757600080fdfea2646970667358221220f932827379a0c41f788d9f09441ccb299d85294b929d715212504fe789582bf564736f6c634300060c0033'"
     },
     "execution_count": 4,
     "metadata": {},
     "output_type": "execute_result"
    }
   ],
   "source": [
    "x"
   ],
   "metadata": {
    "collapsed": false
   }
  },
  {
   "cell_type": "code",
   "execution_count": 5,
   "outputs": [],
   "source": [
    "x_byte = bytearray.fromhex(x[2:])"
   ],
   "metadata": {
    "collapsed": false
   }
  },
  {
   "cell_type": "code",
   "execution_count": 6,
   "outputs": [],
   "source": [
    "# my_hexdata = \"1a\"\n",
    "\n",
    "scale = 16 ## equals to hexadecimal\n",
    "\n",
    "num_of_bits = 8\n",
    "\n",
    "x_bit = bin(int(x, scale))[2:].zfill(num_of_bits)\n"
   ],
   "metadata": {
    "collapsed": false
   }
  },
  {
   "cell_type": "code",
   "execution_count": 7,
   "outputs": [
    {
     "data": {
      "text/plain": "7351"
     },
     "execution_count": 7,
     "metadata": {},
     "output_type": "execute_result"
    }
   ],
   "source": [
    "len(x_bit)"
   ],
   "metadata": {
    "collapsed": false
   }
  },
  {
   "cell_type": "code",
   "execution_count": 8,
   "outputs": [
    {
     "data": {
      "text/plain": "16384"
     },
     "execution_count": 8,
     "metadata": {},
     "output_type": "execute_result"
    }
   ],
   "source": [
    "128 * 128"
   ],
   "metadata": {
    "collapsed": false
   }
  },
  {
   "cell_type": "code",
   "execution_count": 9,
   "outputs": [
    {
     "name": "stderr",
     "output_type": "stream",
     "text": [
      "/tmp/ipykernel_1340750/1406668449.py:4: DeprecationWarning: The binary mode of fromstring is deprecated, as it behaves surprisingly on unicode inputs. Use frombuffer instead\n",
      "  np_image_code = np.fromstring(x_bit,'u1') - ord('0')\n"
     ]
    }
   ],
   "source": [
    "import numpy as np\n",
    "\n",
    "# np_image = np.fromstring(x_bit, dtype=np.str)\n",
    "np_image_code = np.fromstring(x_bit,'u1') - ord('0')\n"
   ],
   "metadata": {
    "collapsed": false
   }
  },
  {
   "cell_type": "code",
   "execution_count": 10,
   "outputs": [],
   "source": [
    "np_full_image = np.pad(np_image_code, (0, 128 * 128 - len(np_image_code)), 'constant')"
   ],
   "metadata": {
    "collapsed": false
   }
  },
  {
   "cell_type": "code",
   "execution_count": 11,
   "outputs": [
    {
     "data": {
      "text/plain": "array([1, 1, 0, ..., 0, 0, 0], dtype=uint8)"
     },
     "execution_count": 11,
     "metadata": {},
     "output_type": "execute_result"
    }
   ],
   "source": [
    "np_full_image"
   ],
   "metadata": {
    "collapsed": false
   }
  },
  {
   "cell_type": "code",
   "execution_count": 12,
   "outputs": [],
   "source": [
    "np_full_image = np_full_image.reshape((128, 128, 1))"
   ],
   "metadata": {
    "collapsed": false
   }
  },
  {
   "cell_type": "code",
   "execution_count": 13,
   "outputs": [
    {
     "data": {
      "text/plain": "<Figure size 640x480 with 1 Axes>",
      "image/png": "[encoded data removed]"
     },
     "metadata": {},
     "output_type": "display_data"
    }
   ],
   "source": [
    "from matplotlib import pyplot as plt\n",
    "import matplotlib as mpl\n",
    "plt.imshow(np_full_image, interpolation='nearest', cmap=mpl.colormaps['prism'])\n",
    "plt.show()"
   ],
   "metadata": {
    "collapsed": false
   }
  },
  {
   "cell_type": "code",
   "execution_count": 14,
   "outputs": [
    {
     "name": "stdout",
     "output_type": "stream",
     "text": [
      "CPU times: user 2 µs, sys: 2 µs, total: 4 µs\n",
      "Wall time: 2.62 µs\n"
     ]
    }
   ],
   "source": [
    "%%time\n",
    "\n",
    "#\n",
    "# img = get_contract_as_image(sc_df.creation_bytecode[np.random.randint(0, len(sc_df))])\n",
    "# display_image(img)\n",
    "# img"
   ],
   "metadata": {
    "collapsed": false
   }
  },
  {
   "cell_type": "code",
   "execution_count": 15,
   "outputs": [],
   "source": [
    "class SmartContractsDataset(tc.utils.data.Dataset):\n",
    "    def __init__(self, sc_df):\n",
    "        self.sc_df = sc_df\n",
    "        # x = sc_df.apply(lambda row : get_contract_as_image(row['creation_bytecode']), axis = 1)\n",
    "\n",
    "\n",
    "    def __len__(self):\n",
    "        return len(self.sc_df)\n",
    "\n",
    "    def __getitem__(self, idx):\n",
    "        code = self.sc_df.creation_bytecode[idx]\n",
    "        code = self.get_contract_as_image(code).transpose(2, 0, 1)\n",
    "        code = tc.tensor(code).type(tc.float32)\n",
    "        mal = self.sc_df.malicious[idx]\n",
    "        mal = tc.tensor(mal).type(tc.float32)\n",
    "        return code, mal\n",
    "\n",
    "    @staticmethod\n",
    "    def get_contract_as_image(x):\n",
    "        scale = 16 ## equals to hexadecimal\n",
    "        num_of_bits = 8\n",
    "        x_bit = bin(int(x, scale))[2:].zfill(num_of_bits)\n",
    "        np_image_code = np.fromstring(x_bit,'u1') - ord('0')\n",
    "        if len(np_image_code) > 512 * 512:\n",
    "            np_image_code = np_image_code[0:512*512]\n",
    "            return np_image_code.reshape((512, 512, 1))\n",
    "        additional_zeros = 512 * 512 - len(np_image_code)\n",
    "        additional_zeros = additional_zeros if additional_zeros >= 0 else 0\n",
    "        np_full_image = np.pad(np_image_code, (0, additional_zeros), 'constant')\n",
    "        return np_full_image.reshape((512, 512, 1))\n",
    "\n",
    "    @staticmethod\n",
    "    def display_image(array):\n",
    "        plt.imshow(array, interpolation='nearest', cmap=mpl.colormaps['prism'])\n",
    "        plt.show()"
   ],
   "metadata": {
    "collapsed": false
   }
  },
  {
   "cell_type": "code",
   "execution_count": 16,
   "outputs": [],
   "source": [
    "import torch\n",
    "import torch.nn as nn\n",
    "\n",
    "class Model0(nn.Module):\n",
    "    def __init__(self):\n",
    "        super(Model0, self).__init__()\n",
    "        self.conv1 = nn.Conv2d(1, 64, kernel_size=3, padding=1)\n",
    "        self.bn1 = nn.BatchNorm2d(64)\n",
    "        self.relu1 = nn.ReLU()\n",
    "        self.conv2 = nn.Conv2d(64, 64, kernel_size=3, padding=1)\n",
    "        self.bn2 = nn.BatchNorm2d(64)\n",
    "        self.relu2 = nn.ReLU()\n",
    "        self.maxpool1 = nn.MaxPool2d(2)\n",
    "\n",
    "        self.conv3 = nn.Conv2d(64, 128, kernel_size=3, padding=1)\n",
    "        self.bn3 = nn.BatchNorm2d(128)\n",
    "        self.relu3 = nn.ReLU()\n",
    "        self.conv4 = nn.Conv2d(128, 128, kernel_size=3, padding=1)\n",
    "        self.bn4 = nn.BatchNorm2d(128)\n",
    "        self.relu4 = nn.ReLU()\n",
    "        self.maxpool2 = nn.MaxPool2d(2)\n",
    "\n",
    "        self.conv5 = nn.Conv2d(128, 256, kernel_size=3)\n",
    "        self.bn5 = nn.BatchNorm2d(256)\n",
    "        self.relu5 = nn.ReLU()\n",
    "        self.conv6 = nn.Conv2d(256, 256, kernel_size=3)\n",
    "        self.bn6 = nn.BatchNorm2d(256)\n",
    "        self.relu6 = nn.ReLU()\n",
    "        self.maxpool3 = nn.MaxPool2d(2)\n",
    "\n",
    "        self.conv7 = nn.Conv2d(256, 512, kernel_size=3)\n",
    "        self.bn7 = nn.BatchNorm2d(512)\n",
    "        self.relu7 = nn.ReLU()\n",
    "        self.conv8 = nn.Conv2d(512, 512, kernel_size=3)\n",
    "        self.bn8 = nn.BatchNorm2d(512)\n",
    "        self.relu8 = nn.ReLU()\n",
    "        self.maxpool4 = nn.MaxPool2d(2)\n",
    "\n",
    "        self.conv9 = nn.Conv2d(512, 1024, kernel_size=3)\n",
    "        self.bn9 = nn.BatchNorm2d(1024)\n",
    "        self.relu9 = nn.ReLU()\n",
    "        self.conv10 = nn.Conv2d(1024, 1024, kernel_size=3)\n",
    "        self.bn10 = nn.BatchNorm2d(1024)\n",
    "        self.relu10 = nn.ReLU()\n",
    "        # self.maxpool5 = nn.MaxPool2d(2)\n",
    "        #\n",
    "        # self.conv11 = nn.Conv2d(1024, 2048, kernel_size=3)\n",
    "        # self.bn11 = nn.BatchNorm2d(2048)\n",
    "        # self.relu11 = nn.ReLU()\n",
    "        # self.conv12 = nn.Conv2d(2048, 2048, kernel_size=3)\n",
    "        # self.bn12 = nn.BatchNorm2d(2048)\n",
    "        # self.relu12 = nn.ReLU()\n",
    "        self.linear = nn.Linear(1024 * 25 * 25, 1)\n",
    "        # self.avgpool = nn.AdaptiveAvgPool2d(output_size=(1, 1))\n",
    "\n",
    "        self.sigmoid = nn.Sigmoid()\n",
    "\n",
    "\n",
    "    def forward(self, x):\n",
    "        x = self.conv1(x)\n",
    "        x = self.bn1(x)\n",
    "        x = self.relu1(x)\n",
    "        x = self.conv2(x)\n",
    "        x = self.bn2(x)\n",
    "        x_saved1 = self.relu2(x)\n",
    "        x_encoded1 = self.maxpool1(x_saved1)\n",
    "\n",
    "        x = self.conv3(x_encoded1)\n",
    "        x = self.bn3(x)\n",
    "        x = self.relu3(x)\n",
    "        x = self.conv4(x)\n",
    "        x = self.bn4(x)\n",
    "        x_saved2 = self.relu4(x)\n",
    "        x_encoded2 = self.maxpool2(x_saved2)\n",
    "\n",
    "        x = self.conv5(x_encoded2)\n",
    "        x = self.bn5(x)\n",
    "        x = self.relu5(x)\n",
    "        x = self.conv6(x)\n",
    "        x = self.bn6(x)\n",
    "        x_saved3 = self.relu6(x)\n",
    "        x_encoded3 = self.maxpool3(x_saved3)\n",
    "\n",
    "        x = self.conv7(x_encoded3)\n",
    "        x = self.bn7(x)\n",
    "        x = self.relu7(x)\n",
    "        x = self.conv8(x)\n",
    "        x = self.bn8(x)\n",
    "        x_saved4 = self.relu8(x)\n",
    "        x_encoded4 = self.maxpool4(x_saved4)\n",
    "\n",
    "        x = self.conv9(x_encoded4)\n",
    "        x = self.bn9(x)\n",
    "        x = self.relu9(x)\n",
    "        x = self.conv10(x)\n",
    "        x = self.bn10(x)\n",
    "        x = self.relu10(x)\n",
    "        # x = self.maxpool5(x)\n",
    "        #\n",
    "        # x = self.conv11(x)\n",
    "        # x = self.bn11(x)\n",
    "        # x = self.relu1(x)\n",
    "        # x = self.conv12(x)\n",
    "        # x = self.bn12(x)\n",
    "        # x = self.relu12(x)\n",
    "\n",
    "        x = x.view(x.shape[0], 1, 1024 * 25 * 25)\n",
    "\n",
    "        x = self.linear(x)\n",
    "        # x = self.avgpool(x)\n",
    "        x = self.sigmoid(x)\n",
    "\n",
    "        return x"
   ],
   "metadata": {
    "collapsed": false
   }
  },
  {
   "cell_type": "code",
   "execution_count": 17,
   "outputs": [],
   "source": [
    "# img = get_contract_as_image(sc_df.creation_bytecode[np.random.randint(0, len(sc_df))]).transpose(2, 0, 1)\n",
    "# img = tc.tensor(img)\n",
    "# img = img.unsqueeze(dim=0)\n",
    "# img = img.type(tc.float32)"
   ],
   "metadata": {
    "collapsed": false
   }
  },
  {
   "cell_type": "code",
   "execution_count": 18,
   "outputs": [],
   "source": [
    "# img.device\n",
    "# img.shape"
   ],
   "metadata": {
    "collapsed": false
   }
  },
  {
   "cell_type": "code",
   "execution_count": 19,
   "outputs": [],
   "source": [
    "device = \"cuda:0\"\n",
    "model0 = Model0()\n",
    "model0 = model0.to(device)\n",
    "# model0(img)"
   ],
   "metadata": {
    "collapsed": false
   }
  },
  {
   "cell_type": "code",
   "execution_count": 19,
   "outputs": [],
   "source": [],
   "metadata": {
    "collapsed": false
   }
  },
  {
   "cell_type": "code",
   "execution_count": 20,
   "outputs": [],
   "source": [
    "# len(x)"
   ],
   "metadata": {
    "collapsed": false
   }
  },
  {
   "cell_type": "code",
   "execution_count": 21,
   "outputs": [],
   "source": [
    "# x, x_test = x[:7500], x[7500:]"
   ],
   "metadata": {
    "collapsed": false
   }
  },
  {
   "cell_type": "code",
   "execution_count": 22,
   "outputs": [],
   "source": [
    "# y = sc_df.malicious"
   ],
   "metadata": {
    "collapsed": false
   }
  },
  {
   "cell_type": "code",
   "execution_count": 23,
   "outputs": [],
   "source": [
    "# y, y_test = y[:7500], y[7500:]"
   ],
   "metadata": {
    "collapsed": false
   }
  },
  {
   "cell_type": "code",
   "execution_count": 24,
   "outputs": [],
   "source": [
    "# x[0].shape"
   ],
   "metadata": {
    "collapsed": false
   }
  },
  {
   "cell_type": "code",
   "execution_count": 25,
   "outputs": [],
   "source": [
    "# x = [tc.tensor(img.transpose(2, 0, 1)) for img in x]\n",
    "# y = [tc.tensor(mal) for mal in y]"
   ],
   "metadata": {
    "collapsed": false
   }
  },
  {
   "cell_type": "code",
   "execution_count": 26,
   "outputs": [],
   "source": [
    "# x = [img.type(tc.float32) for img in x]\n",
    "# y = [mal.type(tc.float32) for mal in y]"
   ],
   "metadata": {
    "collapsed": false
   }
  },
  {
   "cell_type": "code",
   "execution_count": 27,
   "outputs": [],
   "source": [
    "# x[0]"
   ],
   "metadata": {
    "collapsed": false
   }
  },
  {
   "cell_type": "code",
   "execution_count": 28,
   "outputs": [],
   "source": [
    "scd = SmartContractsDataset(sc_df)"
   ],
   "metadata": {
    "collapsed": false
   }
  },
  {
   "cell_type": "code",
   "execution_count": 29,
   "outputs": [],
   "source": [
    "batch_size = 16\n",
    "shuffle = True\n",
    "# split_ratio = (0.7, 0.1, 0.2)\n",
    "train_size = int(0.8 * len(scd))\n",
    "val_size = int(0.1 * len(scd))\n",
    "test_size = len(scd) - train_size - val_size\n",
    "training_dataset, validation_dataset, testing_dataset = tc.utils.data.random_split(scd, [train_size, val_size, test_size])\n",
    "\n",
    "\n",
    "training_dataloader = tc.utils.data.DataLoader(training_dataset, batch_size=batch_size, shuffle=shuffle)\n",
    "validation_dataloader = tc.utils.data.DataLoader(validation_dataset, batch_size=batch_size, shuffle=shuffle)\n",
    "testing_dataloader = tc.utils.data.DataLoader(testing_dataset, batch_size=batch_size, shuffle=shuffle)"
   ],
   "metadata": {
    "collapsed": false
   }
  },
  {
   "cell_type": "code",
   "execution_count": 30,
   "outputs": [],
   "source": [
    "batch_size = 16\n",
    "learning_rate = 0.001\n",
    "num_epochs = 20\n",
    "loss = nn.BCELoss()#weight=tc.Tensor([3, 3, 3, 3, 3, 3, 3, 3, 3, 3, 3, 3, 3, 3, 3, 3,]).to(device))\n",
    "parameters = model0.parameters()\n",
    "optimizer = tc.optim.SGD(parameters, lr=learning_rate)\n",
    "objective_function = loss"
   ],
   "metadata": {
    "collapsed": false
   }
  },
  {
   "cell_type": "code",
   "execution_count": 31,
   "outputs": [
    {
     "name": "stderr",
     "output_type": "stream",
     "text": [
      "/tmp/ipykernel_1340750/2629971016.py:23: DeprecationWarning: The binary mode of fromstring is deprecated, as it behaves surprisingly on unicode inputs. Use frombuffer instead\n",
      "  np_image_code = np.fromstring(x_bit,'u1') - ord('0')\n"
     ]
    },
    {
     "name": "stdout",
     "output_type": "stream",
     "text": [
      "Epoch: 0/20; \n",
      "Train Loss: 0.4957773939291405; \n",
      "Validation Loss: 0.24740394562944346\n",
      "Epoch: 1/20; \n",
      "Train Loss: 0.35530512302170975; \n",
      "Validation Loss: 0.48342538564975257\n",
      "Epoch: 2/20; \n",
      "Train Loss: 0.25186986107118214; \n",
      "Validation Loss: 0.17388891091832193\n",
      "Epoch: 3/20; \n",
      "Train Loss: 0.08468633062561298; \n",
      "Validation Loss: 0.1160235975694377\n",
      "Epoch: 4/20; \n",
      "Train Loss: 0.039560703054536135; \n",
      "Validation Loss: 0.13941811714585128\n",
      "Epoch: 5/20; \n",
      "Train Loss: 0.03367092223885993; \n",
      "Validation Loss: 0.12743655977828894\n",
      "Epoch: 6/20; \n",
      "Train Loss: 0.03014936996990582; \n",
      "Validation Loss: 0.14145456137021029\n",
      "Epoch: 7/20; \n",
      "Train Loss: 0.026085502940564765; \n",
      "Validation Loss: 0.12949182913325785\n",
      "Epoch: 8/20; \n",
      "Train Loss: 0.02424878514953889; \n",
      "Validation Loss: 0.11142825932802225\n",
      "Epoch: 9/20; \n",
      "Train Loss: 0.021268486295390177; \n",
      "Validation Loss: 0.13093612264810872\n",
      "Epoch: 10/20; \n",
      "Train Loss: 0.018465327678932227; \n",
      "Validation Loss: 0.14074125185106823\n",
      "Epoch: 11/20; \n",
      "Train Loss: 0.017505318449686457; \n",
      "Validation Loss: 0.13353349292611938\n",
      "Epoch: 12/20; \n",
      "Train Loss: 0.01546744366283383; \n",
      "Validation Loss: 0.13473375820262845\n",
      "Epoch: 13/20; \n",
      "Train Loss: 0.01326323465450696; \n",
      "Validation Loss: 0.1388626674859097\n",
      "Epoch: 14/20; \n",
      "Train Loss: 0.012177537119307089; \n",
      "Validation Loss: 0.14601528727359891\n",
      "Epoch: 15/20; \n",
      "Train Loss: 0.011473688797079376; \n",
      "Validation Loss: 0.1359267893158176\n",
      "Epoch: 16/20; \n",
      "Train Loss: 0.009842379871028243; \n",
      "Validation Loss: 0.13575060202288114\n",
      "Epoch: 17/20; \n",
      "Train Loss: 0.009195818011678058; \n",
      "Validation Loss: 0.13796943398870098\n",
      "Epoch: 18/20; \n",
      "Train Loss: 0.008232135911748628; \n",
      "Validation Loss: 0.1368908502663544\n",
      "Epoch: 19/20; \n",
      "Train Loss: 0.007775149311506539; \n",
      "Validation Loss: 0.12694292784340178\n"
     ]
    }
   ],
   "source": [
    "for epoch in range(num_epochs):\n",
    "        model0.train()\n",
    "        count = 0\n",
    "        train_loss = 0\n",
    "        for x_train, y_train in training_dataloader:\n",
    "            # x_train = x_train.unsqueeze()\n",
    "            # y_train = y_train.unsqueeze(dim=0).unsqueeze(dim=0)\n",
    "            # print(x_train)\n",
    "            x_train = x_train.to(device)\n",
    "            y_train = y_train.to(device)\n",
    "\n",
    "            y_pred = model0(x_train)\n",
    "            # print(y_pred.shape)\n",
    "            y_pred = y_pred.squeeze(dim=1).squeeze(dim=1)\n",
    "            # print(y_pred)\n",
    "            # print(y_train)\n",
    "            loss = objective_function(y_pred, y_train)\n",
    "            train_loss += loss.item()\n",
    "            # count += 1\n",
    "\n",
    "            optimizer.zero_grad()\n",
    "            loss.backward()\n",
    "            optimizer.step()\n",
    "            # if count == 200:\n",
    "            #     break\n",
    "\n",
    "        train_loss = train_loss / len(training_dataloader)\n",
    "\n",
    "        model0.eval()\n",
    "        validation_loss = 0\n",
    "        with torch.inference_mode():\n",
    "            for x_val, y_val in validation_dataloader:\n",
    "                x_val = x_val.to(device)\n",
    "                y_val = y_val.to(device)\n",
    "                if x_val.shape[0] != batch_size:\n",
    "                    continue\n",
    "                y_pred = model0(x_val)\n",
    "                y_pred = y_pred.squeeze(dim=1).squeeze(dim=1)\n",
    "\n",
    "                loss = objective_function(y_pred, y_val)\n",
    "                validation_loss += loss.item()\n",
    "\n",
    "        validation_loss = validation_loss / len(validation_dataloader)\n",
    "        print(f'Epoch: {epoch}/{num_epochs}; \\nTrain Loss: {train_loss}; \\nValidation Loss: {validation_loss}')\n"
   ],
   "metadata": {
    "collapsed": false
   }
  },
  {
   "cell_type": "code",
   "execution_count": 32,
   "outputs": [
    {
     "name": "stdout",
     "output_type": "stream",
     "text": [
      "tensor([0., 0., 0., 0., 0., 0., 0., 0., 0., 0., 0., 0., 0., 0., 0., 0.],\n",
      "       device='cuda:0') - tensor([0., 0., 0., 0., 0., 0., 0., 0., 0., 0., 0., 0., 0., 0., 0., 0.],\n",
      "       device='cuda:0')\n"
     ]
    },
    {
     "name": "stderr",
     "output_type": "stream",
     "text": [
      "/tmp/ipykernel_1340750/2629971016.py:23: DeprecationWarning: The binary mode of fromstring is deprecated, as it behaves surprisingly on unicode inputs. Use frombuffer instead\n",
      "  np_image_code = np.fromstring(x_bit,'u1') - ord('0')\n"
     ]
    },
    {
     "name": "stdout",
     "output_type": "stream",
     "text": [
      "tensor([0., 0., 0., 0., 0., 0., 0., 0., 0., 0., 0., 0., 0., 0., 1., 0.],\n",
      "       device='cuda:0') - tensor([0., 0., 0., 0., 0., 0., 0., 0., 0., 0., 0., 0., 0., 0., 1., 0.],\n",
      "       device='cuda:0')\n",
      "tensor([0., 0., 0., 0., 0., 0., 0., 0., 0., 0., 0., 0., 0., 0., 0., 0.],\n",
      "       device='cuda:0') - tensor([0., 0., 0., 0., 0., 0., 0., 0., 0., 0., 0., 0., 0., 0., 0., 0.],\n",
      "       device='cuda:0')\n",
      "tensor([0., 0., 0., 0., 0., 0., 0., 0., 0., 0., 0., 0., 0., 0., 0., 0.],\n",
      "       device='cuda:0') - tensor([0., 0., 1., 0., 0., 0., 0., 0., 0., 0., 0., 0., 0., 0., 0., 0.],\n",
      "       device='cuda:0')\n",
      "tensor([0., 0., 0., 0., 0., 0., 0., 0., 0., 0., 0., 0., 0., 0., 0., 0.],\n",
      "       device='cuda:0') - tensor([0., 0., 0., 0., 0., 0., 0., 0., 0., 0., 0., 0., 0., 0., 0., 0.],\n",
      "       device='cuda:0')\n",
      "tensor([0., 0., 0., 0., 0., 0., 0., 0., 0., 0., 0., 0., 0., 0., 0., 0.],\n",
      "       device='cuda:0') - tensor([1., 0., 0., 0., 0., 0., 0., 0., 0., 0., 0., 0., 0., 0., 0., 0.],\n",
      "       device='cuda:0')\n",
      "tensor([0., 0., 0., 0., 0., 0., 0., 0., 0., 0., 0., 0., 0., 0., 0., 0.],\n",
      "       device='cuda:0') - tensor([0., 0., 0., 0., 0., 0., 0., 0., 0., 0., 0., 0., 0., 0., 0., 0.],\n",
      "       device='cuda:0')\n",
      "tensor([0., 0., 0., 0., 0., 0., 0., 0., 0., 0., 0., 0., 0., 0., 0., 0.],\n",
      "       device='cuda:0') - tensor([0., 0., 0., 1., 0., 0., 0., 0., 0., 0., 0., 0., 0., 0., 0., 0.],\n",
      "       device='cuda:0')\n",
      "tensor([0., 0., 0., 0., 0., 0., 0., 0., 0., 0., 0., 0., 0., 0., 0., 0.],\n",
      "       device='cuda:0') - tensor([0., 0., 0., 0., 0., 0., 0., 0., 0., 0., 0., 0., 0., 0., 0., 0.],\n",
      "       device='cuda:0')\n",
      "tensor([0., 0., 0., 0., 0., 0., 0., 0., 0., 0., 0., 0., 0., 0., 0., 0.],\n",
      "       device='cuda:0') - tensor([0., 0., 0., 0., 0., 0., 0., 0., 0., 0., 0., 0., 0., 0., 0., 0.],\n",
      "       device='cuda:0')\n",
      "tensor([0., 0., 0., 0., 0., 0., 0., 0., 0., 0., 0., 0., 0., 0., 0., 0.],\n",
      "       device='cuda:0') - tensor([0., 0., 0., 0., 0., 0., 0., 0., 0., 0., 0., 0., 0., 0., 0., 0.],\n",
      "       device='cuda:0')\n",
      "tensor([0., 0., 0., 0., 0., 0., 0., 0., 0., 0., 0., 0., 0., 1., 0., 0.],\n",
      "       device='cuda:0') - tensor([0., 0., 0., 0., 0., 0., 0., 0., 0., 0., 0., 0., 0., 1., 0., 0.],\n",
      "       device='cuda:0')\n",
      "tensor([0., 0., 0., 0., 0., 0., 0., 0., 0., 0., 0., 0., 0., 0., 0., 0.],\n",
      "       device='cuda:0') - tensor([0., 0., 0., 0., 0., 0., 1., 0., 0., 0., 0., 0., 0., 0., 0., 0.],\n",
      "       device='cuda:0')\n",
      "tensor([0., 0., 0., 0., 0., 0., 0., 0., 0., 0., 0., 0., 0., 0., 0., 0.],\n",
      "       device='cuda:0') - tensor([0., 0., 0., 0., 0., 0., 0., 0., 0., 0., 0., 0., 0., 0., 0., 0.],\n",
      "       device='cuda:0')\n",
      "tensor([0., 0., 0., 0., 0., 0., 0., 0., 0., 0., 0., 0., 0., 0., 0., 1.],\n",
      "       device='cuda:0') - tensor([0., 0., 0., 0., 0., 0., 0., 0., 0., 0., 0., 0., 0., 0., 0., 0.],\n",
      "       device='cuda:0')\n",
      "tensor([0., 0., 0., 0., 0., 0., 0., 0., 0., 0., 0., 0., 0., 0., 0., 0.],\n",
      "       device='cuda:0') - tensor([0., 0., 0., 0., 0., 0., 0., 0., 0., 0., 0., 0., 0., 0., 0., 1.],\n",
      "       device='cuda:0')\n",
      "tensor([0., 0., 0., 0., 0., 0., 0., 0., 0., 0., 0., 0., 0., 0., 0., 0.],\n",
      "       device='cuda:0') - tensor([0., 0., 0., 0., 0., 0., 0., 0., 0., 0., 0., 0., 0., 0., 0., 0.],\n",
      "       device='cuda:0')\n",
      "tensor([0., 0., 0., 0., 0., 0., 0., 0., 0., 0., 0., 0., 0., 0., 0., 0.],\n",
      "       device='cuda:0') - tensor([0., 0., 0., 0., 0., 0., 0., 0., 0., 0., 1., 0., 0., 0., 0., 0.],\n",
      "       device='cuda:0')\n",
      "tensor([0., 0., 0., 0., 0., 0., 0., 0., 0., 0., 0., 0., 0., 0., 0., 0.],\n",
      "       device='cuda:0') - tensor([0., 0., 0., 0., 0., 0., 0., 0., 0., 0., 0., 0., 0., 0., 0., 0.],\n",
      "       device='cuda:0')\n",
      "tensor([0., 0., 0., 0., 0., 0., 0., 0., 0., 0., 0., 0., 0., 0., 0., 0.],\n",
      "       device='cuda:0') - tensor([0., 0., 0., 0., 0., 0., 0., 0., 0., 0., 0., 1., 0., 0., 0., 0.],\n",
      "       device='cuda:0')\n",
      "tensor([0., 0., 0., 0., 0., 0., 0., 0., 0., 1., 0., 0., 0., 0., 0., 0.],\n",
      "       device='cuda:0') - tensor([0., 0., 0., 0., 0., 0., 0., 0., 0., 1., 0., 0., 0., 0., 0., 0.],\n",
      "       device='cuda:0')\n",
      "tensor([0., 0., 0., 0., 0., 0., 0., 0., 0., 0., 0., 0., 0., 0., 0., 0.],\n",
      "       device='cuda:0') - tensor([0., 0., 0., 0., 0., 0., 0., 0., 0., 0., 0., 0., 0., 0., 1., 0.],\n",
      "       device='cuda:0')\n",
      "tensor([0., 0., 0., 0., 0., 0., 0., 0., 0., 0., 0., 0., 1., 0., 0., 0.],\n",
      "       device='cuda:0') - tensor([0., 0., 0., 0., 0., 0., 0., 0., 0., 0., 0., 0., 1., 0., 0., 0.],\n",
      "       device='cuda:0')\n",
      "tensor([0., 0., 0., 0., 0., 0., 0., 0., 0., 0., 0., 0., 0., 0., 0., 0.],\n",
      "       device='cuda:0') - tensor([0., 0., 0., 0., 0., 0., 0., 0., 0., 0., 0., 0., 0., 0., 0., 0.],\n",
      "       device='cuda:0')\n",
      "tensor([0., 0., 0., 0., 0., 0., 0., 0., 0., 0., 0., 0., 0., 0., 0., 0.],\n",
      "       device='cuda:0') - tensor([0., 0., 0., 0., 0., 0., 0., 0., 0., 0., 0., 0., 0., 0., 0., 0.],\n",
      "       device='cuda:0')\n",
      "tensor([0., 0., 0., 0., 0., 0., 0., 0., 0., 0., 0., 1., 0., 0., 0., 0.],\n",
      "       device='cuda:0') - tensor([1., 0., 0., 0., 0., 0., 0., 0., 0., 0., 0., 1., 0., 0., 0., 0.],\n",
      "       device='cuda:0')\n",
      "tensor([0., 0., 0., 0., 0., 0., 0., 0., 0., 0., 0., 0., 0., 0., 0., 0.],\n",
      "       device='cuda:0') - tensor([0., 0., 0., 0., 0., 0., 0., 0., 0., 0., 0., 1., 0., 0., 0., 0.],\n",
      "       device='cuda:0')\n",
      "tensor([0., 0., 0., 0., 1., 0., 0., 0., 0., 0., 0., 0., 0., 0., 0., 0.],\n",
      "       device='cuda:0') - tensor([0., 0., 0., 0., 1., 0., 0., 0., 0., 0., 0., 0., 0., 0., 0., 0.],\n",
      "       device='cuda:0')\n",
      "tensor([0., 0., 0., 0., 0., 0., 0., 0., 0., 0., 0., 0., 0., 0., 0., 0.],\n",
      "       device='cuda:0') - tensor([0., 0., 0., 0., 0., 0., 0., 0., 0., 0., 0., 0., 0., 0., 0., 0.],\n",
      "       device='cuda:0')\n",
      "tensor([0., 0., 0., 0., 0., 0., 0., 0., 0., 0., 0., 0., 0., 0., 0., 0.],\n",
      "       device='cuda:0') - tensor([0., 0., 0., 0., 0., 0., 0., 0., 0., 0., 0., 0., 0., 0., 0., 0.],\n",
      "       device='cuda:0')\n",
      "tensor([0., 0., 0., 0., 0., 0., 0., 0., 0., 0., 0., 0., 0., 0., 0., 0.],\n",
      "       device='cuda:0') - tensor([0., 0., 0., 0., 0., 0., 0., 0., 0., 0., 0., 1., 0., 0., 0., 0.],\n",
      "       device='cuda:0')\n",
      "tensor([0., 0., 0., 0.], device='cuda:0') - tensor([0., 0., 0., 0.], device='cuda:0')\n"
     ]
    }
   ],
   "source": [
    "y_pred_total = tc.tensor(data=[], device=device)\n",
    "y_test_total = tc.tensor(data=[], device=device)\n",
    "model0.eval()\n",
    "with tc.inference_mode():\n",
    "    for x_train, y_train in testing_dataloader:\n",
    "\n",
    "        x_train = x_train.to(device)\n",
    "        y_train = y_train.to(device)\n",
    "        y_pred = model0(x_train)\n",
    "        y_pred = y_pred.squeeze(dim=1).squeeze(dim=1)\n",
    "        y_pred = (y_pred > 0.5).type(tc.float32)\n",
    "\n",
    "        y_pred_total = tc.concat([y_pred_total, y_pred])\n",
    "        y_test_total = tc.concat([y_test_total, y_train])\n",
    "        print(f\"{y_pred} - {y_train}\")"
   ],
   "metadata": {
    "collapsed": false
   }
  },
  {
   "cell_type": "code",
   "execution_count": 33,
   "outputs": [
    {
     "data": {
      "text/plain": "<AxesSubplot: >"
     },
     "execution_count": 33,
     "metadata": {},
     "output_type": "execute_result"
    },
    {
     "data": {
      "text/plain": "<Figure size 1200x700 with 2 Axes>",
      "image/png": "[encoded data removed]"
     },
     "metadata": {},
     "output_type": "display_data"
    }
   ],
   "source": [
    "from sklearn.metrics import confusion_matrix\n",
    "import seaborn as sn\n",
    "cf_matrix = confusion_matrix(y_test_total.cpu().numpy(), y_pred_total.cpu().numpy())\n",
    "df_cm = pd.DataFrame(cf_matrix, index = [0, 1],\n",
    "                     columns = [0, 1])\n",
    "plt.figure(figsize = (12,7))\n",
    "sn.heatmap(df_cm, annot=True)"
   ],
   "metadata": {
    "collapsed": false
   }
  },
  {
   "cell_type": "code",
   "execution_count": 33,
   "outputs": [],
   "source": [],
   "metadata": {
    "collapsed": false
   }
  }
 ],
 "metadata": {
  "kernelspec": {
   "display_name": "Python 3",
   "language": "python",
   "name": "python3"
  },
  "language_info": {
   "codemirror_mode": {
    "name": "ipython",
    "version": 2
   },
   "file_extension": ".py",
   "mimetype": "text/x-python",
   "name": "python",
   "nbconvert_exporter": "python",
   "pygments_lexer": "ipython2",
   "version": "2.7.6"
  }
 },
 "nbformat": 4,
 "nbformat_minor": 0
}
